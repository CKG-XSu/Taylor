{
 "cells": [
  {
   "cell_type": "code",
   "execution_count": 1,
   "id": "2f7d3a00-0949-49e0-b9ae-c0e3fdcb0f63",
   "metadata": {},
   "outputs": [],
   "source": [
    "import pandas as pd\n",
    "import xarray as xr\n",
    "import numpy as np\n",
    "import matplotlib as mpl\n",
    "from matplotlib.ticker import AutoMinorLocator\n",
    "import matplotlib.pyplot as plt\n",
    "import scipy\n",
    "import sklearn.linear_model \n",
    "import pickle\n",
    "import re\n",
    "from datetime import datetime\n",
    "import gcsfs \n",
    "import requests"
   ]
  },
  {
   "cell_type": "code",
   "execution_count": 2,
   "id": "6deebb76-c1a5-408d-96a1-cd5519120fad",
   "metadata": {},
   "outputs": [],
   "source": [
    "# From https://www.ncei.noaa.gov/data/oceans/ncei/ocads/data/0160492/\n",
    "\n",
    "# Download path\n",
    "ldeo_url  = 'https://www.ncei.noaa.gov/data/oceans/ncei/ocads/data/0160492/LDEO_Database_V2019.csv'\n",
    "# GCS path to save the data\n",
    "save_path = 'gs://leap-persistent/ckg-2dxsu/Taylor_data/databases'\n",
    "# Edit the file name if needed.\n",
    "gcs_path = f'{save_path}/raw/LDEO_Database_V2019.csv'\n",
    "\n",
    "# If you want to change the outcome .nc save path or file name, search for \"zarr_gcs_path\" later in this notebook\n"
   ]
  },
  {
   "cell_type": "code",
   "execution_count": 3,
   "id": "023eafe0-3741-4761-af32-ed64cdfb5b97",
   "metadata": {},
   "outputs": [
    {
     "name": "stdout",
     "output_type": "stream",
     "text": [
      "Succesfully downloaded and saved to gs://leap-persistent/ckg-2dxsu/Taylor_data/databases/raw/LDEO_Database_V2019.csv\n"
     ]
    }
   ],
   "source": [
    "fs = gcsfs.GCSFileSystem()\n",
    "\n",
    "if fs.exists(gcs_path):\n",
    "    print(f\"File already exists at {gcs_path}. Skipping download.\")\n",
    "else:\n",
    "    # download and save to GCS\n",
    "    response = requests.get(ldeo_url, stream=True)\n",
    "    if response.status_code == 200:\n",
    "        with fs.open(gcs_path, 'wb') as gcs_file:\n",
    "            for chunk in response.iter_content(chunk_size=1024):\n",
    "                if chunk:  # filter out keep-alive new chunks\n",
    "                    gcs_file.write(chunk)\n",
    "        print(f\"Succesfully downloaded and saved to {gcs_path}\")\n",
    "    else:\n",
    "        print(f\"Error! Could not download: {response.status_code}\")"
   ]
  },
  {
   "cell_type": "code",
   "execution_count": 23,
   "id": "11f7550e-9c9b-4b1e-9b53-d4046afc98d5",
   "metadata": {},
   "outputs": [
    {
     "data": {
      "text/plain": [
       "['leap-persistent/ckg-2dxsu/Taylor_data/databases/raw/GLODAPv2.2023_Merged_Master_File.csv.zip',\n",
       " 'leap-persistent/ckg-2dxsu/Taylor_data/databases/raw/HOT_surface_CO2.txt',\n",
       " 'leap-persistent/ckg-2dxsu/Taylor_data/databases/raw/LDEO_Database_V2019.csv',\n",
       " 'leap-persistent/ckg-2dxsu/Taylor_data/databases/raw/bats_bottle.txt']"
      ]
     },
     "execution_count": 23,
     "metadata": {},
     "output_type": "execute_result"
    }
   ],
   "source": [
    "fs = gcsfs.GCSFileSystem()\n",
    "fs.ls('gs://leap-persistent/ckg-2dxsu/Taylor_data/databases/raw')"
   ]
  },
  {
   "cell_type": "code",
   "execution_count": 5,
   "id": "00c5694c-f60a-401c-8788-261dfb088ccd",
   "metadata": {},
   "outputs": [
    {
     "name": "stderr",
     "output_type": "stream",
     "text": [
      "/tmp/ipykernel_1501/2615056617.py:3: DtypeWarning: Columns (0) have mixed types. Specify dtype option on import or set low_memory=False.\n",
      "  df = pd.read_csv(f)\n"
     ]
    }
   ],
   "source": [
    "# load data from GCS\n",
    "with fs.open(gcs_path) as f:\n",
    "    df = pd.read_csv(f)"
   ]
  },
  {
   "cell_type": "code",
   "execution_count": 6,
   "id": "7cf318bb-217d-4372-a845-a336996474a6",
   "metadata": {},
   "outputs": [
    {
     "data": {
      "text/html": [
       "<div>\n",
       "<style scoped>\n",
       "    .dataframe tbody tr th:only-of-type {\n",
       "        vertical-align: middle;\n",
       "    }\n",
       "\n",
       "    .dataframe tbody tr th {\n",
       "        vertical-align: top;\n",
       "    }\n",
       "\n",
       "    .dataframe thead th {\n",
       "        text-align: right;\n",
       "    }\n",
       "</style>\n",
       "<table border=\"1\" class=\"dataframe\">\n",
       "  <thead>\n",
       "    <tr style=\"text-align: right;\">\n",
       "      <th></th>\n",
       "      <th>FILENAME</th>\n",
       "      <th>STN</th>\n",
       "      <th>LAT</th>\n",
       "      <th>LON</th>\n",
       "      <th>MONTH/DAY/YEAR</th>\n",
       "      <th>JDATE</th>\n",
       "      <th>VCO2_SW</th>\n",
       "      <th>TEMP_PCO2</th>\n",
       "      <th>TEMP</th>\n",
       "      <th>SAL</th>\n",
       "      <th>PCO2_SST</th>\n",
       "      <th>PCO2_SSTPA</th>\n",
       "      <th>PCO2_TEQ</th>\n",
       "      <th>EQ_PBARO</th>\n",
       "      <th>SHIPPBARO</th>\n",
       "    </tr>\n",
       "  </thead>\n",
       "  <tbody>\n",
       "    <tr>\n",
       "      <th>0</th>\n",
       "      <td>0002</td>\n",
       "      <td>1</td>\n",
       "      <td>-58.823</td>\n",
       "      <td>-60.967</td>\n",
       "      <td>4/9/2000</td>\n",
       "      <td>100.24912</td>\n",
       "      <td>364.84</td>\n",
       "      <td>3.30</td>\n",
       "      <td>0.00</td>\n",
       "      <td>33.50</td>\n",
       "      <td>309.35</td>\n",
       "      <td>31.345</td>\n",
       "      <td>356.7</td>\n",
       "      <td>998.3</td>\n",
       "      <td>998.3</td>\n",
       "    </tr>\n",
       "    <tr>\n",
       "      <th>1</th>\n",
       "      <td>0002</td>\n",
       "      <td>2</td>\n",
       "      <td>-58.829</td>\n",
       "      <td>-60.962</td>\n",
       "      <td>4/9/2000</td>\n",
       "      <td>100.25045</td>\n",
       "      <td>364.21</td>\n",
       "      <td>3.25</td>\n",
       "      <td>2.56</td>\n",
       "      <td>33.50</td>\n",
       "      <td>345.68</td>\n",
       "      <td>35.026</td>\n",
       "      <td>356.1</td>\n",
       "      <td>998.2</td>\n",
       "      <td>998.2</td>\n",
       "    </tr>\n",
       "    <tr>\n",
       "      <th>2</th>\n",
       "      <td>0002</td>\n",
       "      <td>3</td>\n",
       "      <td>-58.834</td>\n",
       "      <td>-60.956</td>\n",
       "      <td>4/9/2000</td>\n",
       "      <td>100.25173</td>\n",
       "      <td>364.61</td>\n",
       "      <td>3.27</td>\n",
       "      <td>2.56</td>\n",
       "      <td>33.47</td>\n",
       "      <td>345.77</td>\n",
       "      <td>35.035</td>\n",
       "      <td>356.5</td>\n",
       "      <td>998.3</td>\n",
       "      <td>998.3</td>\n",
       "    </tr>\n",
       "    <tr>\n",
       "      <th>3</th>\n",
       "      <td>0002</td>\n",
       "      <td>4</td>\n",
       "      <td>-58.839</td>\n",
       "      <td>-60.950</td>\n",
       "      <td>4/9/2000</td>\n",
       "      <td>100.25302</td>\n",
       "      <td>365.01</td>\n",
       "      <td>3.33</td>\n",
       "      <td>2.63</td>\n",
       "      <td>33.45</td>\n",
       "      <td>346.21</td>\n",
       "      <td>35.080</td>\n",
       "      <td>356.8</td>\n",
       "      <td>998.0</td>\n",
       "      <td>998.0</td>\n",
       "    </tr>\n",
       "    <tr>\n",
       "      <th>4</th>\n",
       "      <td>0002</td>\n",
       "      <td>5</td>\n",
       "      <td>-58.844</td>\n",
       "      <td>-60.944</td>\n",
       "      <td>4/9/2000</td>\n",
       "      <td>100.25430</td>\n",
       "      <td>365.32</td>\n",
       "      <td>3.33</td>\n",
       "      <td>2.63</td>\n",
       "      <td>33.44</td>\n",
       "      <td>346.50</td>\n",
       "      <td>35.109</td>\n",
       "      <td>357.1</td>\n",
       "      <td>998.2</td>\n",
       "      <td>998.2</td>\n",
       "    </tr>\n",
       "  </tbody>\n",
       "</table>\n",
       "</div>"
      ],
      "text/plain": [
       "  FILENAME  STN     LAT     LON MONTH/DAY/YEAR      JDATE  VCO2_SW  TEMP_PCO2  \\\n",
       "0     0002    1 -58.823 -60.967       4/9/2000  100.24912   364.84       3.30   \n",
       "1     0002    2 -58.829 -60.962       4/9/2000  100.25045   364.21       3.25   \n",
       "2     0002    3 -58.834 -60.956       4/9/2000  100.25173   364.61       3.27   \n",
       "3     0002    4 -58.839 -60.950       4/9/2000  100.25302   365.01       3.33   \n",
       "4     0002    5 -58.844 -60.944       4/9/2000  100.25430   365.32       3.33   \n",
       "\n",
       "   TEMP    SAL  PCO2_SST  PCO2_SSTPA  PCO2_TEQ  EQ_PBARO  SHIPPBARO  \n",
       "0  0.00  33.50    309.35      31.345     356.7     998.3      998.3  \n",
       "1  2.56  33.50    345.68      35.026     356.1     998.2      998.2  \n",
       "2  2.56  33.47    345.77      35.035     356.5     998.3      998.3  \n",
       "3  2.63  33.45    346.21      35.080     356.8     998.0      998.0  \n",
       "4  2.63  33.44    346.50      35.109     357.1     998.2      998.2  "
      ]
     },
     "execution_count": 6,
     "metadata": {},
     "output_type": "execute_result"
    }
   ],
   "source": [
    "df.head()"
   ]
  },
  {
   "cell_type": "code",
   "execution_count": 7,
   "id": "b39a2ed9-b327-4075-9445-71ffe0da2afe",
   "metadata": {},
   "outputs": [
    {
     "name": "stdout",
     "output_type": "stream",
     "text": [
      "<class 'pandas.core.frame.DataFrame'>\n",
      "RangeIndex: 14177826 entries, 0 to 14177825\n",
      "Data columns (total 15 columns):\n",
      " #   Column          Dtype  \n",
      "---  ------          -----  \n",
      " 0   FILENAME        object \n",
      " 1   STN             int64  \n",
      " 2   LAT             float64\n",
      " 3   LON             float64\n",
      " 4   MONTH/DAY/YEAR  object \n",
      " 5   JDATE           float64\n",
      " 6   VCO2_SW         float64\n",
      " 7   TEMP_PCO2       float64\n",
      " 8   TEMP            float64\n",
      " 9   SAL             float64\n",
      " 10  PCO2_SST        float64\n",
      " 11  PCO2_SSTPA      float64\n",
      " 12  PCO2_TEQ        float64\n",
      " 13  EQ_PBARO        float64\n",
      " 14  SHIPPBARO       float64\n",
      "dtypes: float64(12), int64(1), object(2)\n",
      "memory usage: 1.6+ GB\n"
     ]
    }
   ],
   "source": [
    "df.info()"
   ]
  },
  {
   "cell_type": "code",
   "execution_count": 8,
   "id": "89ab395c-70f4-4a86-a2cd-a3acee2a13ea",
   "metadata": {},
   "outputs": [
    {
     "data": {
      "text/html": [
       "<div>\n",
       "<style scoped>\n",
       "    .dataframe tbody tr th:only-of-type {\n",
       "        vertical-align: middle;\n",
       "    }\n",
       "\n",
       "    .dataframe tbody tr th {\n",
       "        vertical-align: top;\n",
       "    }\n",
       "\n",
       "    .dataframe thead th {\n",
       "        text-align: right;\n",
       "    }\n",
       "</style>\n",
       "<table border=\"1\" class=\"dataframe\">\n",
       "  <thead>\n",
       "    <tr style=\"text-align: right;\">\n",
       "      <th></th>\n",
       "      <th>LAT</th>\n",
       "      <th>LON</th>\n",
       "      <th>MONTH/DAY/YEAR</th>\n",
       "      <th>TEMP</th>\n",
       "      <th>PCO2_SST</th>\n",
       "    </tr>\n",
       "  </thead>\n",
       "  <tbody>\n",
       "    <tr>\n",
       "      <th>0</th>\n",
       "      <td>-58.823</td>\n",
       "      <td>-60.967</td>\n",
       "      <td>4/9/2000</td>\n",
       "      <td>0.00</td>\n",
       "      <td>309.35</td>\n",
       "    </tr>\n",
       "    <tr>\n",
       "      <th>1</th>\n",
       "      <td>-58.829</td>\n",
       "      <td>-60.962</td>\n",
       "      <td>4/9/2000</td>\n",
       "      <td>2.56</td>\n",
       "      <td>345.68</td>\n",
       "    </tr>\n",
       "    <tr>\n",
       "      <th>2</th>\n",
       "      <td>-58.834</td>\n",
       "      <td>-60.956</td>\n",
       "      <td>4/9/2000</td>\n",
       "      <td>2.56</td>\n",
       "      <td>345.77</td>\n",
       "    </tr>\n",
       "    <tr>\n",
       "      <th>3</th>\n",
       "      <td>-58.839</td>\n",
       "      <td>-60.950</td>\n",
       "      <td>4/9/2000</td>\n",
       "      <td>2.63</td>\n",
       "      <td>346.21</td>\n",
       "    </tr>\n",
       "    <tr>\n",
       "      <th>4</th>\n",
       "      <td>-58.844</td>\n",
       "      <td>-60.944</td>\n",
       "      <td>4/9/2000</td>\n",
       "      <td>2.63</td>\n",
       "      <td>346.50</td>\n",
       "    </tr>\n",
       "  </tbody>\n",
       "</table>\n",
       "</div>"
      ],
      "text/plain": [
       "      LAT     LON MONTH/DAY/YEAR  TEMP  PCO2_SST\n",
       "0 -58.823 -60.967       4/9/2000  0.00    309.35\n",
       "1 -58.829 -60.962       4/9/2000  2.56    345.68\n",
       "2 -58.834 -60.956       4/9/2000  2.56    345.77\n",
       "3 -58.839 -60.950       4/9/2000  2.63    346.21\n",
       "4 -58.844 -60.944       4/9/2000  2.63    346.50"
      ]
     },
     "execution_count": 8,
     "metadata": {},
     "output_type": "execute_result"
    }
   ],
   "source": [
    "# use PCO2_SST for now!!!\n",
    "df_ed = df[['LAT', 'LON', 'MONTH/DAY/YEAR', 'TEMP','PCO2_SST']]\n",
    "df_ed.head()"
   ]
  },
  {
   "cell_type": "code",
   "execution_count": 9,
   "id": "61fd105d-8c75-4a2b-8932-80cd5389e90d",
   "metadata": {},
   "outputs": [
    {
     "name": "stderr",
     "output_type": "stream",
     "text": [
      "/tmp/ipykernel_1501/1063574601.py:10: SettingWithCopyWarning: \n",
      "A value is trying to be set on a copy of a slice from a DataFrame.\n",
      "Try using .loc[row_indexer,col_indexer] = value instead\n",
      "\n",
      "See the caveats in the documentation: https://pandas.pydata.org/pandas-docs/stable/user_guide/indexing.html#returning-a-view-versus-a-copy\n",
      "  df_ed['LON360'] = df_ed.apply(f, axis=1)\n"
     ]
    },
    {
     "data": {
      "text/html": [
       "<div>\n",
       "<style scoped>\n",
       "    .dataframe tbody tr th:only-of-type {\n",
       "        vertical-align: middle;\n",
       "    }\n",
       "\n",
       "    .dataframe tbody tr th {\n",
       "        vertical-align: top;\n",
       "    }\n",
       "\n",
       "    .dataframe thead th {\n",
       "        text-align: right;\n",
       "    }\n",
       "</style>\n",
       "<table border=\"1\" class=\"dataframe\">\n",
       "  <thead>\n",
       "    <tr style=\"text-align: right;\">\n",
       "      <th></th>\n",
       "      <th>LAT</th>\n",
       "      <th>LON</th>\n",
       "      <th>MONTH/DAY/YEAR</th>\n",
       "      <th>TEMP</th>\n",
       "      <th>PCO2_SST</th>\n",
       "      <th>LON360</th>\n",
       "    </tr>\n",
       "  </thead>\n",
       "  <tbody>\n",
       "    <tr>\n",
       "      <th>0</th>\n",
       "      <td>-58.823</td>\n",
       "      <td>-60.967</td>\n",
       "      <td>4/9/2000</td>\n",
       "      <td>0.00</td>\n",
       "      <td>309.35</td>\n",
       "      <td>299.033</td>\n",
       "    </tr>\n",
       "    <tr>\n",
       "      <th>1</th>\n",
       "      <td>-58.829</td>\n",
       "      <td>-60.962</td>\n",
       "      <td>4/9/2000</td>\n",
       "      <td>2.56</td>\n",
       "      <td>345.68</td>\n",
       "      <td>299.038</td>\n",
       "    </tr>\n",
       "    <tr>\n",
       "      <th>2</th>\n",
       "      <td>-58.834</td>\n",
       "      <td>-60.956</td>\n",
       "      <td>4/9/2000</td>\n",
       "      <td>2.56</td>\n",
       "      <td>345.77</td>\n",
       "      <td>299.044</td>\n",
       "    </tr>\n",
       "    <tr>\n",
       "      <th>3</th>\n",
       "      <td>-58.839</td>\n",
       "      <td>-60.950</td>\n",
       "      <td>4/9/2000</td>\n",
       "      <td>2.63</td>\n",
       "      <td>346.21</td>\n",
       "      <td>299.050</td>\n",
       "    </tr>\n",
       "    <tr>\n",
       "      <th>4</th>\n",
       "      <td>-58.844</td>\n",
       "      <td>-60.944</td>\n",
       "      <td>4/9/2000</td>\n",
       "      <td>2.63</td>\n",
       "      <td>346.50</td>\n",
       "      <td>299.056</td>\n",
       "    </tr>\n",
       "  </tbody>\n",
       "</table>\n",
       "</div>"
      ],
      "text/plain": [
       "      LAT     LON MONTH/DAY/YEAR  TEMP  PCO2_SST   LON360\n",
       "0 -58.823 -60.967       4/9/2000  0.00    309.35  299.033\n",
       "1 -58.829 -60.962       4/9/2000  2.56    345.68  299.038\n",
       "2 -58.834 -60.956       4/9/2000  2.56    345.77  299.044\n",
       "3 -58.839 -60.950       4/9/2000  2.63    346.21  299.050\n",
       "4 -58.844 -60.944       4/9/2000  2.63    346.50  299.056"
      ]
     },
     "execution_count": 9,
     "metadata": {},
     "output_type": "execute_result"
    }
   ],
   "source": [
    "### Convert from -180 / 180 to 0/360 longitude\n",
    "def f(row):\n",
    "    if row['LON'] < 0:\n",
    "        val = row['LON'] + 360\n",
    "    else:\n",
    "        val = row['LON']\n",
    "    return val\n",
    "\n",
    "### Apply function to dataframe \n",
    "df_ed['LON360'] = df_ed.apply(f, axis=1)\n",
    "\n",
    "df_ed.head()"
   ]
  },
  {
   "cell_type": "code",
   "execution_count": 10,
   "id": "c62756f6-752e-4b47-aa78-9553cabc587c",
   "metadata": {},
   "outputs": [
    {
     "name": "stderr",
     "output_type": "stream",
     "text": [
      "/tmp/ipykernel_1501/3910596934.py:4: SettingWithCopyWarning: \n",
      "A value is trying to be set on a copy of a slice from a DataFrame.\n",
      "Try using .loc[row_indexer,col_indexer] = value instead\n",
      "\n",
      "See the caveats in the documentation: https://pandas.pydata.org/pandas-docs/stable/user_guide/indexing.html#returning-a-view-versus-a-copy\n",
      "  df_ed[column] = pd.to_numeric(df_ed[column], errors='coerce')\n",
      "/tmp/ipykernel_1501/3910596934.py:7: SettingWithCopyWarning: \n",
      "A value is trying to be set on a copy of a slice from a DataFrame.\n",
      "Try using .loc[row_indexer,col_indexer] = value instead\n",
      "\n",
      "See the caveats in the documentation: https://pandas.pydata.org/pandas-docs/stable/user_guide/indexing.html#returning-a-view-versus-a-copy\n",
      "  df_ed['DATE'] = pd.to_datetime(df_ed['MONTH/DAY/YEAR']).dt.strftime('%Y-%m-%d')\n"
     ]
    },
    {
     "data": {
      "text/html": [
       "<div>\n",
       "<style scoped>\n",
       "    .dataframe tbody tr th:only-of-type {\n",
       "        vertical-align: middle;\n",
       "    }\n",
       "\n",
       "    .dataframe tbody tr th {\n",
       "        vertical-align: top;\n",
       "    }\n",
       "\n",
       "    .dataframe thead th {\n",
       "        text-align: right;\n",
       "    }\n",
       "</style>\n",
       "<table border=\"1\" class=\"dataframe\">\n",
       "  <thead>\n",
       "    <tr style=\"text-align: right;\">\n",
       "      <th></th>\n",
       "      <th>lat</th>\n",
       "      <th>lon</th>\n",
       "      <th>spco2</th>\n",
       "    </tr>\n",
       "    <tr>\n",
       "      <th>time</th>\n",
       "      <th></th>\n",
       "      <th></th>\n",
       "      <th></th>\n",
       "    </tr>\n",
       "  </thead>\n",
       "  <tbody>\n",
       "    <tr>\n",
       "      <th>2000-04-09</th>\n",
       "      <td>-58.823</td>\n",
       "      <td>299.033</td>\n",
       "      <td>309.35</td>\n",
       "    </tr>\n",
       "    <tr>\n",
       "      <th>2000-04-09</th>\n",
       "      <td>-58.829</td>\n",
       "      <td>299.038</td>\n",
       "      <td>345.68</td>\n",
       "    </tr>\n",
       "    <tr>\n",
       "      <th>2000-04-09</th>\n",
       "      <td>-58.834</td>\n",
       "      <td>299.044</td>\n",
       "      <td>345.77</td>\n",
       "    </tr>\n",
       "    <tr>\n",
       "      <th>2000-04-09</th>\n",
       "      <td>-58.839</td>\n",
       "      <td>299.050</td>\n",
       "      <td>346.21</td>\n",
       "    </tr>\n",
       "    <tr>\n",
       "      <th>2000-04-09</th>\n",
       "      <td>-58.844</td>\n",
       "      <td>299.056</td>\n",
       "      <td>346.50</td>\n",
       "    </tr>\n",
       "  </tbody>\n",
       "</table>\n",
       "</div>"
      ],
      "text/plain": [
       "               lat      lon   spco2\n",
       "time                               \n",
       "2000-04-09 -58.823  299.033  309.35\n",
       "2000-04-09 -58.829  299.038  345.68\n",
       "2000-04-09 -58.834  299.044  345.77\n",
       "2000-04-09 -58.839  299.050  346.21\n",
       "2000-04-09 -58.844  299.056  346.50"
      ]
     },
     "execution_count": 10,
     "metadata": {},
     "output_type": "execute_result"
    }
   ],
   "source": [
    "# Convert data types\n",
    "columns_to_convert = ['TEMP','PCO2_SST']\n",
    "for column in columns_to_convert:\n",
    "    df_ed[column] = pd.to_numeric(df_ed[column], errors='coerce')\n",
    "\n",
    "# Change date format\n",
    "df_ed['DATE'] = pd.to_datetime(df_ed['MONTH/DAY/YEAR']).dt.strftime('%Y-%m-%d')\n",
    "\n",
    "### Set index to dates\n",
    "df_ed_sub = df_ed.loc[:, ['DATE', 'LAT', 'LON360', 'PCO2_SST']].rename(columns={'LAT':'lat', 'LON360':'lon', 'PCO2_SST':'spco2', 'DATE':'time'}).set_index(['time'])\n",
    "\n",
    "df_ed_sub.head()"
   ]
  },
  {
   "cell_type": "code",
   "execution_count": 11,
   "id": "c9d9fbf0-e3d4-40d0-9748-0f7796c8ca97",
   "metadata": {},
   "outputs": [
    {
     "data": {
      "text/html": [
       "<div>\n",
       "<style scoped>\n",
       "    .dataframe tbody tr th:only-of-type {\n",
       "        vertical-align: middle;\n",
       "    }\n",
       "\n",
       "    .dataframe tbody tr th {\n",
       "        vertical-align: top;\n",
       "    }\n",
       "\n",
       "    .dataframe thead th {\n",
       "        text-align: right;\n",
       "    }\n",
       "</style>\n",
       "<table border=\"1\" class=\"dataframe\">\n",
       "  <thead>\n",
       "    <tr style=\"text-align: right;\">\n",
       "      <th></th>\n",
       "      <th>LAT</th>\n",
       "      <th>LON</th>\n",
       "      <th>MONTH/DAY/YEAR</th>\n",
       "      <th>TEMP</th>\n",
       "      <th>PCO2_SST</th>\n",
       "      <th>LON360</th>\n",
       "      <th>DATE</th>\n",
       "    </tr>\n",
       "  </thead>\n",
       "  <tbody>\n",
       "    <tr>\n",
       "      <th>4040619</th>\n",
       "      <td>29.767</td>\n",
       "      <td>-120.250</td>\n",
       "      <td>10/22/1957</td>\n",
       "      <td>20.3</td>\n",
       "      <td>325.91</td>\n",
       "      <td>239.750</td>\n",
       "      <td>1957-10-22</td>\n",
       "    </tr>\n",
       "    <tr>\n",
       "      <th>4040620</th>\n",
       "      <td>29.133</td>\n",
       "      <td>-120.750</td>\n",
       "      <td>10/23/1957</td>\n",
       "      <td>19.8</td>\n",
       "      <td>324.92</td>\n",
       "      <td>239.250</td>\n",
       "      <td>1957-10-23</td>\n",
       "    </tr>\n",
       "    <tr>\n",
       "      <th>4040621</th>\n",
       "      <td>28.983</td>\n",
       "      <td>-120.883</td>\n",
       "      <td>10/23/1957</td>\n",
       "      <td>19.8</td>\n",
       "      <td>326.80</td>\n",
       "      <td>239.117</td>\n",
       "      <td>1957-10-23</td>\n",
       "    </tr>\n",
       "    <tr>\n",
       "      <th>4040622</th>\n",
       "      <td>28.733</td>\n",
       "      <td>-121.150</td>\n",
       "      <td>10/23/1957</td>\n",
       "      <td>20.3</td>\n",
       "      <td>328.38</td>\n",
       "      <td>238.850</td>\n",
       "      <td>1957-10-23</td>\n",
       "    </tr>\n",
       "    <tr>\n",
       "      <th>4040623</th>\n",
       "      <td>28.617</td>\n",
       "      <td>-121.283</td>\n",
       "      <td>10/23/1957</td>\n",
       "      <td>20.4</td>\n",
       "      <td>330.54</td>\n",
       "      <td>238.717</td>\n",
       "      <td>1957-10-23</td>\n",
       "    </tr>\n",
       "  </tbody>\n",
       "</table>\n",
       "</div>"
      ],
      "text/plain": [
       "            LAT      LON MONTH/DAY/YEAR  TEMP  PCO2_SST   LON360        DATE\n",
       "4040619  29.767 -120.250     10/22/1957  20.3    325.91  239.750  1957-10-22\n",
       "4040620  29.133 -120.750     10/23/1957  19.8    324.92  239.250  1957-10-23\n",
       "4040621  28.983 -120.883     10/23/1957  19.8    326.80  239.117  1957-10-23\n",
       "4040622  28.733 -121.150     10/23/1957  20.3    328.38  238.850  1957-10-23\n",
       "4040623  28.617 -121.283     10/23/1957  20.4    330.54  238.717  1957-10-23"
      ]
     },
     "execution_count": 11,
     "metadata": {},
     "output_type": "execute_result"
    }
   ],
   "source": [
    "df_ed_sorted = df_ed.sort_values(by='DATE')\n",
    "df_ed_sorted.head()"
   ]
  },
  {
   "cell_type": "code",
   "execution_count": 12,
   "id": "105a31e3-abc2-4c52-abc9-f335833e4440",
   "metadata": {},
   "outputs": [
    {
     "name": "stdout",
     "output_type": "stream",
     "text": [
      "Date range is:1957-10-22 to 2019-12-23.\n"
     ]
    },
    {
     "name": "stderr",
     "output_type": "stream",
     "text": [
      "/tmp/ipykernel_1501/330321989.py:9: FutureWarning: Parsed string \"1957-10-22-01T00:00:00.000000000\" included an un-recognized timezone \"T\". Dropping unrecognized timezones is deprecated; in a future version this will raise. Instead pass the string without the timezone, then use .tz_localize to convert to a recognized timezone.\n",
      "  time = pd.date_range(start=f'{date_range[0]}-01T00:00:00.000000000',\n",
      "/tmp/ipykernel_1501/330321989.py:9: FutureWarning: Parsed string \"2019-12-23-01T00:00:00.000000000\" included an un-recognized timezone \"T\". Dropping unrecognized timezones is deprecated; in a future version this will raise. Instead pass the string without the timezone, then use .tz_localize to convert to a recognized timezone.\n",
      "  time = pd.date_range(start=f'{date_range[0]}-01T00:00:00.000000000',\n"
     ]
    }
   ],
   "source": [
    "min_date_str = df_ed_sub.index.min()\n",
    "max_date_str = df_ed_sub.index.max()\n",
    "date_range = [min_date_str,max_date_str]\n",
    "print(f'Date range is:{date_range[0]} to {date_range[1]}.')\n",
    "\n",
    "# Define spatial range\n",
    "lon = np.arange(0.5, 360, 1)\n",
    "lat = np.arange(-89.5, 90, 1)\n",
    "time = pd.date_range(start=f'{date_range[0]}-01T00:00:00.000000000',\n",
    "                     end=f'{date_range[1]}-01T00:00:00.000000000',\n",
    "                     freq='MS') + np.timedelta64(14, 'D')\n",
    "\n",
    "# Create DataArray\n",
    "xda = xr.DataArray(np.zeros((len(time), len(lat), len(lon))),\n",
    "                   dims=['time', 'lat', 'lon'],\n",
    "                   coords=[time, lat, lon])\n",
    "\n",
    "# Convert data into series\n",
    "ds_gd = pd.DataFrame({\n",
    "    'time': df_ed_sub.index,\n",
    "    'lon': df_ed_sub.lon.values,\n",
    "    'lat': df_ed_sub.lat.values,\n",
    "    'spco2': df_ed_sub.spco2.values\n",
    "})"
   ]
  },
  {
   "cell_type": "code",
   "execution_count": 13,
   "id": "8c3fb7e4-4f7c-4ce6-b191-21815cdcc014",
   "metadata": {},
   "outputs": [
    {
     "data": {
      "text/html": [
       "<div>\n",
       "<style scoped>\n",
       "    .dataframe tbody tr th:only-of-type {\n",
       "        vertical-align: middle;\n",
       "    }\n",
       "\n",
       "    .dataframe tbody tr th {\n",
       "        vertical-align: top;\n",
       "    }\n",
       "\n",
       "    .dataframe thead th {\n",
       "        text-align: right;\n",
       "    }\n",
       "</style>\n",
       "<table border=\"1\" class=\"dataframe\">\n",
       "  <thead>\n",
       "    <tr style=\"text-align: right;\">\n",
       "      <th></th>\n",
       "      <th>time</th>\n",
       "      <th>lon</th>\n",
       "      <th>lat</th>\n",
       "      <th>spco2</th>\n",
       "    </tr>\n",
       "  </thead>\n",
       "  <tbody>\n",
       "    <tr>\n",
       "      <th>0</th>\n",
       "      <td>2000-04-09</td>\n",
       "      <td>299.033</td>\n",
       "      <td>-58.823</td>\n",
       "      <td>309.35</td>\n",
       "    </tr>\n",
       "    <tr>\n",
       "      <th>1</th>\n",
       "      <td>2000-04-09</td>\n",
       "      <td>299.038</td>\n",
       "      <td>-58.829</td>\n",
       "      <td>345.68</td>\n",
       "    </tr>\n",
       "    <tr>\n",
       "      <th>2</th>\n",
       "      <td>2000-04-09</td>\n",
       "      <td>299.044</td>\n",
       "      <td>-58.834</td>\n",
       "      <td>345.77</td>\n",
       "    </tr>\n",
       "    <tr>\n",
       "      <th>3</th>\n",
       "      <td>2000-04-09</td>\n",
       "      <td>299.050</td>\n",
       "      <td>-58.839</td>\n",
       "      <td>346.21</td>\n",
       "    </tr>\n",
       "    <tr>\n",
       "      <th>4</th>\n",
       "      <td>2000-04-09</td>\n",
       "      <td>299.056</td>\n",
       "      <td>-58.844</td>\n",
       "      <td>346.50</td>\n",
       "    </tr>\n",
       "  </tbody>\n",
       "</table>\n",
       "</div>"
      ],
      "text/plain": [
       "         time      lon     lat   spco2\n",
       "0  2000-04-09  299.033 -58.823  309.35\n",
       "1  2000-04-09  299.038 -58.829  345.68\n",
       "2  2000-04-09  299.044 -58.834  345.77\n",
       "3  2000-04-09  299.050 -58.839  346.21\n",
       "4  2000-04-09  299.056 -58.844  346.50"
      ]
     },
     "execution_count": 13,
     "metadata": {},
     "output_type": "execute_result"
    }
   ],
   "source": [
    "ds_gd.head()"
   ]
  },
  {
   "cell_type": "code",
   "execution_count": 14,
   "id": "2b857f40-a073-44e8-9406-55f7c2cad5f7",
   "metadata": {},
   "outputs": [
    {
     "data": {
      "text/plain": [
       "dtype('<M8[ns]')"
      ]
     },
     "execution_count": 14,
     "metadata": {},
     "output_type": "execute_result"
    }
   ],
   "source": [
    "ds_gd['time'] = pd.to_datetime(ds_gd['time'])\n",
    "# ds_gd_sorted = ds_gd.sort_values(by='time')\n",
    "ds_gd['time'].dtype"
   ]
  },
  {
   "cell_type": "code",
   "execution_count": 15,
   "id": "a3ca6447-36f1-485b-99d2-850851493266",
   "metadata": {},
   "outputs": [
    {
     "data": {
      "text/plain": [
       "Timestamp('1957-10-22 00:00:00')"
      ]
     },
     "execution_count": 15,
     "metadata": {},
     "output_type": "execute_result"
    }
   ],
   "source": [
    "ds_gd.time.min()"
   ]
  },
  {
   "cell_type": "code",
   "execution_count": 16,
   "id": "63e8ab6d-d7bd-4ccf-b3e3-2fc4f794768b",
   "metadata": {},
   "outputs": [
    {
     "name": "stdout",
     "output_type": "stream",
     "text": [
      "Number of NaNs in bin indices:\n",
      "tidx: 103, yidx: 0, xidx: 2951\n"
     ]
    },
    {
     "name": "stderr",
     "output_type": "stream",
     "text": [
      "/tmp/ipykernel_1501/3074895837.py:30: FutureWarning: The default of observed=False is deprecated and will be changed to True in a future version of pandas. Pass observed=False to retain current behavior or observed=True to adopt the future default and silence this warning.\n",
      "  .groupby(['tidx', 'yidx', 'xidx'])\n"
     ]
    },
    {
     "data": {
      "text/plain": [
       "\"\\ndf2 = (pd.Series(ds_gd.spco2)\\n          .groupby([tidx, yidx, xidx])\\n          .agg(['mean', 'std'])\\n          .reset_index()\\n          .rename(columns={'level_0': 'it',\\n                           'level_1': 'iy',\\n                           'level_2': 'ix'}))\\n\""
      ]
     },
     "execution_count": 16,
     "metadata": {},
     "output_type": "execute_result"
    }
   ],
   "source": [
    "# Check if coordinates are present and correctly formatted\n",
    "for key in ['time', 'lat', 'lon']:\n",
    "     assert key in xda.dims, '`{}` is not in the input DataArray'.format(key)\n",
    "assert all(np.diff(xda.time.values) > np.timedelta64(0, 'D')), 'time is not strictly increasing'\n",
    "assert all(np.diff(xda.lat.values) > 0), 'latitude is not strictly increasing'\n",
    "assert all(np.diff(xda.lon.values) > 0), 'longitude is not strictly increasing'\n",
    "assert np.issubdtype(ds_gd['time'].dtype, np.datetime64), 'time must be in datetime64 format'\n",
    "\n",
    "# Create bins for time, latitude, and longitude\n",
    "def make_bins(dim):\n",
    "    delta = np.diff(dim) / 2\n",
    "    bins = np.r_[dim[0] - delta[0], dim[1:] - delta, dim[-1] + delta[-1]]\n",
    "    return bins\n",
    "\n",
    "tbins = make_bins(xda.time.values)\n",
    "ybins = make_bins(xda.lat.values)\n",
    "xbins = make_bins(xda.lon.values)\n",
    "\n",
    "# Bin the data and get indices\n",
    "tidx = pd.cut(ds_gd['time'], tbins, labels=np.arange(len(xda.time)))\n",
    "yidx = pd.cut(ds_gd['lat'], ybins, labels=np.arange(len(xda.lat)))\n",
    "xidx = pd.cut(ds_gd['lon'], xbins, labels=np.arange(len(xda.lon)))\n",
    "\n",
    "print(\"Number of NaNs in bin indices:\")\n",
    "print(f\"tidx: {tidx.isna().sum()}, yidx: {yidx.isna().sum()}, xidx: {xidx.isna().sum()}\")\n",
    "\n",
    "# Group by bins and calculate mean and standard deviation\n",
    "df2 = (pd.DataFrame({'spco2': ds_gd['spco2'], 'tidx': tidx, 'yidx': yidx, 'xidx': xidx})\n",
    "      .dropna()  # Drop rows where binning failed\n",
    "      .groupby(['tidx', 'yidx', 'xidx'])\n",
    "      .agg(['mean', 'std'])\n",
    "      .reset_index()\n",
    "      .rename(columns={'tidx': 'it', 'yidx': 'iy', 'xidx': 'ix'}))\n",
    "'''\n",
    "df2 = (pd.Series(ds_gd.spco2)\n",
    "          .groupby([tidx, yidx, xidx])\n",
    "          .agg(['mean', 'std'])\n",
    "          .reset_index()\n",
    "          .rename(columns={'level_0': 'it',\n",
    "                           'level_1': 'iy',\n",
    "                           'level_2': 'ix'}))\n",
    "'''\n",
    "# df2 = df2.dropna()"
   ]
  },
  {
   "cell_type": "code",
   "execution_count": 17,
   "id": "4b8c7311-d162-46ce-b6e5-2bae3969824c",
   "metadata": {},
   "outputs": [
    {
     "data": {
      "text/html": [
       "<div>\n",
       "<style scoped>\n",
       "    .dataframe tbody tr th:only-of-type {\n",
       "        vertical-align: middle;\n",
       "    }\n",
       "\n",
       "    .dataframe tbody tr th {\n",
       "        vertical-align: top;\n",
       "    }\n",
       "\n",
       "    .dataframe thead tr th {\n",
       "        text-align: left;\n",
       "    }\n",
       "</style>\n",
       "<table border=\"1\" class=\"dataframe\">\n",
       "  <thead>\n",
       "    <tr>\n",
       "      <th></th>\n",
       "      <th>it</th>\n",
       "      <th>iy</th>\n",
       "      <th>ix</th>\n",
       "      <th colspan=\"2\" halign=\"left\">spco2</th>\n",
       "    </tr>\n",
       "    <tr>\n",
       "      <th></th>\n",
       "      <th></th>\n",
       "      <th></th>\n",
       "      <th></th>\n",
       "      <th>mean</th>\n",
       "      <th>std</th>\n",
       "    </tr>\n",
       "  </thead>\n",
       "  <tbody>\n",
       "    <tr>\n",
       "      <th>0</th>\n",
       "      <td>0</td>\n",
       "      <td>0</td>\n",
       "      <td>0</td>\n",
       "      <td>NaN</td>\n",
       "      <td>NaN</td>\n",
       "    </tr>\n",
       "    <tr>\n",
       "      <th>1</th>\n",
       "      <td>0</td>\n",
       "      <td>0</td>\n",
       "      <td>1</td>\n",
       "      <td>NaN</td>\n",
       "      <td>NaN</td>\n",
       "    </tr>\n",
       "    <tr>\n",
       "      <th>2</th>\n",
       "      <td>0</td>\n",
       "      <td>0</td>\n",
       "      <td>2</td>\n",
       "      <td>NaN</td>\n",
       "      <td>NaN</td>\n",
       "    </tr>\n",
       "    <tr>\n",
       "      <th>3</th>\n",
       "      <td>0</td>\n",
       "      <td>0</td>\n",
       "      <td>3</td>\n",
       "      <td>NaN</td>\n",
       "      <td>NaN</td>\n",
       "    </tr>\n",
       "    <tr>\n",
       "      <th>4</th>\n",
       "      <td>0</td>\n",
       "      <td>0</td>\n",
       "      <td>4</td>\n",
       "      <td>NaN</td>\n",
       "      <td>NaN</td>\n",
       "    </tr>\n",
       "  </tbody>\n",
       "</table>\n",
       "</div>"
      ],
      "text/plain": [
       "  it iy ix spco2    \n",
       "            mean std\n",
       "0  0  0  0   NaN NaN\n",
       "1  0  0  1   NaN NaN\n",
       "2  0  0  2   NaN NaN\n",
       "3  0  0  3   NaN NaN\n",
       "4  0  0  4   NaN NaN"
      ]
     },
     "execution_count": 17,
     "metadata": {},
     "output_type": "execute_result"
    }
   ],
   "source": [
    "df2.head()"
   ]
  },
  {
   "cell_type": "code",
   "execution_count": 18,
   "id": "37784561-712a-4019-b201-a8ae9c190e15",
   "metadata": {},
   "outputs": [],
   "source": [
    "# Convert indices to integers\n",
    "it, iy, ix = df2[['it', 'iy', 'ix']].values.T.astype(int)\n",
    "\n",
    "# Create DataArray to store the results\n",
    "xda_mean = xda.copy() * np.nan\n",
    "xda_std = xda.copy() * np.nan\n",
    "xda_mean.name = 'spco2_mean'\n",
    "xda_std.name = 'spco2_std'\n",
    "\n",
    "# Place the binned mean and standard deviation into the DataArray\n",
    "xda_mean.values[it, iy, ix] = df2[('spco2', 'mean')]\n",
    "xda_std.values[it, iy, ix] = df2[('spco2', 'std')]\n",
    "\n",
    "# Merge into a single Dataset\n",
    "out = xr.merge([xda_mean, xda_std])\n",
    "\n",
    "# Rename variables\n",
    "ldeo_out = out.rename({'spco2_mean': 'spco2_mean', 'spco2_std': 'spco2_std'})"
   ]
  },
  {
   "cell_type": "code",
   "execution_count": 19,
   "id": "1646e77c-eb69-4e7c-9616-b8f2452fe9a3",
   "metadata": {},
   "outputs": [
    {
     "name": "stdout",
     "output_type": "stream",
     "text": [
      "Successfully saved to gs://leap-persistent/ckg-2dxsu/Taylor_data/databases/processed/LDEOv2019_spco2.zarr\n"
     ]
    }
   ],
   "source": [
    "# Save to GCS as zarr\n",
    "zarr_gcs_path = f'{save_path}/processed/LDEOv2019_spco2.zarr'\n",
    "\n",
    "ldeo_out.to_zarr( zarr_gcs_path, mode='w')\n",
    "\n",
    "# Check if saved sucessfully\n",
    "if fs.exists(zarr_gcs_path):\n",
    "    print(f\"Successfully saved to {zarr_gcs_path}\")\n",
    "else:\n",
    "    print(f\"Failed to save to {zarr_gcs_path}\")"
   ]
  },
  {
   "cell_type": "code",
   "execution_count": 20,
   "id": "418efaa8-30a1-4fe6-a4ed-86446d62f8c9",
   "metadata": {},
   "outputs": [
    {
     "data": {
      "text/plain": [
       "['leap-persistent/ckg-2dxsu/Taylor_data/databases/processed/HOT_spco2_202312.zarr',\n",
       " 'leap-persistent/ckg-2dxsu/Taylor_data/databases/processed/LDEOv2019_spco2.zarr',\n",
       " 'leap-persistent/ckg-2dxsu/Taylor_data/databases/processed/bats_spco2_1988-10-2023-06.zarr']"
      ]
     },
     "execution_count": 20,
     "metadata": {},
     "output_type": "execute_result"
    }
   ],
   "source": [
    "fs.ls(save_path + '/processed')"
   ]
  },
  {
   "cell_type": "code",
   "execution_count": null,
   "id": "69281204-94c5-4c6b-bf1d-e9784089b4c3",
   "metadata": {},
   "outputs": [],
   "source": []
  },
  {
   "cell_type": "code",
   "execution_count": 21,
   "id": "de6e3a68-639e-43db-856c-5f853a125e80",
   "metadata": {
    "scrolled": true
   },
   "outputs": [
    {
     "data": {
      "text/plain": [
       "<matplotlib.collections.QuadMesh at 0x7d851c2c3530>"
      ]
     },
     "execution_count": 21,
     "metadata": {},
     "output_type": "execute_result"
    },
    {
     "data": {
      "image/png": "[encoded data removed]",
      "text/plain": [
       "<Figure size 640x480 with 2 Axes>"
      ]
     },
     "metadata": {},
     "output_type": "display_data"
    }
   ],
   "source": [
    "ldeo_out.spco2_mean.mean('time').plot()"
   ]
  },
  {
   "cell_type": "code",
   "execution_count": 22,
   "id": "ac092d08-7c59-4ea9-aee6-a1fec2962b50",
   "metadata": {
    "scrolled": true
   },
   "outputs": [
    {
     "data": {
      "text/plain": [
       "<matplotlib.collections.QuadMesh at 0x7d84cc176450>"
      ]
     },
     "execution_count": 22,
     "metadata": {},
     "output_type": "execute_result"
    },
    {
     "data": {
      "image/png": "[encoded data removed]",
      "text/plain": [
       "<Figure size 640x480 with 2 Axes>"
      ]
     },
     "metadata": {},
     "output_type": "display_data"
    }
   ],
   "source": [
    "ldeo_out.spco2_mean.sel(time = '2021-05',method='nearest').plot()"
   ]
  },
  {
   "cell_type": "code",
   "execution_count": null,
   "id": "892611e5-a5ec-40f3-89e4-0e57a29d44b9",
   "metadata": {},
   "outputs": [],
   "source": [
    "# If you want to delete file from the GCS path, run the following code\n",
    "'''\n",
    "delete_path = 'gs://leap-persistent/ckg-2dxsu/Taylor_data/GLODAPv2.2023_Merged_Master_File.csv'\n",
    "\n",
    "fs = gcsfs.GCSFileSystem()\n",
    "\n",
    "if fs.exists(delete_path):\n",
    "    fs.rm(delete_path, recursive=True)\n",
    "    print(f\"The file {delete_path} has been deleted\")\n",
    "else:\n",
    "    print(f\"The file {delete_path} does not exist\")\n",
    "'''"
   ]
  }
 ],
 "metadata": {
  "kernelspec": {
   "display_name": "Python 3 (ipykernel)",
   "language": "python",
   "name": "python3"
  },
  "language_info": {
   "codemirror_mode": {
    "name": "ipython",
    "version": 3
   },
   "file_extension": ".py",
   "mimetype": "text/x-python",
   "name": "python",
   "nbconvert_exporter": "python",
   "pygments_lexer": "ipython3",
   "version": "3.12.4"
  }
 },
 "nbformat": 4,
 "nbformat_minor": 5
}
