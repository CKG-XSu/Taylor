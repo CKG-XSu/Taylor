{
 "cells": [
  {
   "cell_type": "code",
   "execution_count": 1,
   "id": "b22b6e4f-eaa5-433a-a776-508b165ef5a9",
   "metadata": {},
   "outputs": [],
   "source": [
    "# install if your environment does not have it\n",
    "# pip install cbsyst"
   ]
  },
  {
   "cell_type": "code",
   "execution_count": 2,
   "id": "22309aa9-98ff-4357-957e-ca73ae9ff743",
   "metadata": {},
   "outputs": [],
   "source": [
    "import numpy as np\n",
    "import pandas as pd\n",
    "import os\n",
    "import zipfile\n",
    "import urllib.request as ureq\n",
    "from tqdm import tqdm\n",
    "import cbsyst as cb\n",
    "import xarray as xr\n",
    "import gcsfs\n",
    "import cmocean as cm\n",
    "import matplotlib.pyplot as plt\n",
    "import requests\n",
    "import re"
   ]
  },
  {
   "cell_type": "code",
   "execution_count": 3,
   "id": "f1330607-d4c0-4dc2-9dbe-ef5eb31949f3",
   "metadata": {},
   "outputs": [],
   "source": [
    "# Define the surface depth of the data\n",
    "surface_depth = 10\n"
   ]
  },
  {
   "cell_type": "code",
   "execution_count": 4,
   "id": "62205331-c50c-4dbd-bb11-b25681367c73",
   "metadata": {},
   "outputs": [],
   "source": [
    "# From: https://glodap.info/index.php/merged-and-adjusted-data-product-v2-2023/\n",
    "# Copy the link of \"Merged Master File (ZIPped CSV)\"\n",
    "\n",
    "# Download path\n",
    "glodap_url ='https://glodap.info/glodap_files/v2.2023/GLODAPv2.2023_Merged_Master_File.csv.zip'\n",
    "# GCS path to save the data\n",
    "save_path = 'gs://leap-persistent/ckg-2dxsu/Taylor_data/databases'\n",
    "# Edit the file name if needed.\n",
    "gcs_path = f'{save_path}/raw/GLODAPv2.2023_Merged_Master_File.csv.zip'\n",
    "\n",
    "# If you want to change the outcome .nc save path or file name, search for \"zarr_gcs_path\" later in this notebook\n"
   ]
  },
  {
   "cell_type": "code",
   "execution_count": 5,
   "id": "2b9177e3-8135-4953-8e67-eb67fe53f70a",
   "metadata": {},
   "outputs": [
    {
     "name": "stdout",
     "output_type": "stream",
     "text": [
      "Succesfully downloaded and saved to gs://leap-persistent/ckg-2dxsu/Taylor_data/databases/raw/GLODAPv2.2023_Merged_Master_File.csv.zip\n"
     ]
    }
   ],
   "source": [
    "# Download and save to GCS\n",
    "fs = gcsfs.GCSFileSystem()\n",
    "\n",
    "# download and save to GCS\n",
    "if fs.exists(gcs_path):\n",
    "    print(f\"File already exists at {gcs_path}. Skipping download.\")\n",
    "else:\n",
    "    response = requests.get(glodap_url, stream=True)\n",
    "    if response.status_code == 200:\n",
    "        with fs.open(gcs_path, 'wb') as gcs_file:\n",
    "            for chunk in response.iter_content(chunk_size=1024):\n",
    "                if chunk:  # filter out keep-alive new chunks\n",
    "                    gcs_file.write(chunk)\n",
    "        print(f\"Succesfully downloaded and saved to {gcs_path}\")\n",
    "    else:\n",
    "        print(f\"Error! Could not download: {response.status_code}\")"
   ]
  },
  {
   "cell_type": "code",
   "execution_count": 22,
   "id": "af92ec51-94bf-403a-85c1-5885c5a83373",
   "metadata": {},
   "outputs": [
    {
     "data": {
      "text/plain": [
       "['leap-persistent/ckg-2dxsu/Taylor_data/databases/raw/GLODAPv2.2023_Merged_Master_File.csv.zip',\n",
       " 'leap-persistent/ckg-2dxsu/Taylor_data/databases/raw/HOT_surface_CO2.txt',\n",
       " 'leap-persistent/ckg-2dxsu/Taylor_data/databases/raw/LDEO_Database_V2019.csv',\n",
       " 'leap-persistent/ckg-2dxsu/Taylor_data/databases/raw/bats_bottle.txt']"
      ]
     },
     "execution_count": 22,
     "metadata": {},
     "output_type": "execute_result"
    }
   ],
   "source": [
    "fs = gcsfs.GCSFileSystem()\n",
    "fs.ls('gs://leap-persistent/ckg-2dxsu/Taylor_data/databases/raw')"
   ]
  },
  {
   "cell_type": "code",
   "execution_count": 7,
   "id": "296fe1f3-8ef4-4385-a74e-627f787bb827",
   "metadata": {},
   "outputs": [
    {
     "name": "stderr",
     "output_type": "stream",
     "text": [
      "/tmp/ipykernel_1697/2142030365.py:5: DtypeWarning: Columns (0) have mixed types. Specify dtype option on import or set low_memory=False.\n",
      "  gd = pd.read_csv(zf.open('GLODAPv2.2023_Merged_Master_File.csv'))\n"
     ]
    }
   ],
   "source": [
    "# load data from GCS\n",
    "# zip to csv\n",
    "zf = zipfile.ZipFile(fs.open(gcs_path))\n",
    "\n",
    "gd = pd.read_csv(zf.open('GLODAPv2.2023_Merged_Master_File.csv'))"
   ]
  },
  {
   "cell_type": "code",
   "execution_count": 8,
   "id": "eb6dff55-42be-4665-8b42-d90223590901",
   "metadata": {},
   "outputs": [
    {
     "data": {
      "text/html": [
       "<div>\n",
       "<style scoped>\n",
       "    .dataframe tbody tr th:only-of-type {\n",
       "        vertical-align: middle;\n",
       "    }\n",
       "\n",
       "    .dataframe tbody tr th {\n",
       "        vertical-align: top;\n",
       "    }\n",
       "\n",
       "    .dataframe thead th {\n",
       "        text-align: right;\n",
       "    }\n",
       "</style>\n",
       "<table border=\"1\" class=\"dataframe\">\n",
       "  <thead>\n",
       "    <tr style=\"text-align: right;\">\n",
       "      <th></th>\n",
       "      <th>expocode</th>\n",
       "      <th>cruise</th>\n",
       "      <th>station</th>\n",
       "      <th>region</th>\n",
       "      <th>cast</th>\n",
       "      <th>year</th>\n",
       "      <th>month</th>\n",
       "      <th>day</th>\n",
       "      <th>hour</th>\n",
       "      <th>minute</th>\n",
       "      <th>...</th>\n",
       "      <th>tocf</th>\n",
       "      <th>doc</th>\n",
       "      <th>docf</th>\n",
       "      <th>don</th>\n",
       "      <th>donf</th>\n",
       "      <th>tdn</th>\n",
       "      <th>tdnf</th>\n",
       "      <th>chla</th>\n",
       "      <th>chlaf</th>\n",
       "      <th>doi</th>\n",
       "    </tr>\n",
       "  </thead>\n",
       "  <tbody>\n",
       "    <tr>\n",
       "      <th>0</th>\n",
       "      <td>06AQ19840719</td>\n",
       "      <td>1.0</td>\n",
       "      <td>319.0</td>\n",
       "      <td>4.0</td>\n",
       "      <td>1.0</td>\n",
       "      <td>1984.0</td>\n",
       "      <td>7.0</td>\n",
       "      <td>20.0</td>\n",
       "      <td>14.0</td>\n",
       "      <td>46.0</td>\n",
       "      <td>...</td>\n",
       "      <td>9.0</td>\n",
       "      <td>-9999.0</td>\n",
       "      <td>9.0</td>\n",
       "      <td>-9999.0</td>\n",
       "      <td>9.0</td>\n",
       "      <td>-9999.0</td>\n",
       "      <td>9.0</td>\n",
       "      <td>-9999.0</td>\n",
       "      <td>9.0</td>\n",
       "      <td>https://doi.org/10.3334/cdiac/otg.carina_06aq1...</td>\n",
       "    </tr>\n",
       "    <tr>\n",
       "      <th>1</th>\n",
       "      <td>06AQ19840719</td>\n",
       "      <td>1.0</td>\n",
       "      <td>319.0</td>\n",
       "      <td>4.0</td>\n",
       "      <td>1.0</td>\n",
       "      <td>1984.0</td>\n",
       "      <td>7.0</td>\n",
       "      <td>20.0</td>\n",
       "      <td>14.0</td>\n",
       "      <td>46.0</td>\n",
       "      <td>...</td>\n",
       "      <td>9.0</td>\n",
       "      <td>-9999.0</td>\n",
       "      <td>9.0</td>\n",
       "      <td>-9999.0</td>\n",
       "      <td>9.0</td>\n",
       "      <td>-9999.0</td>\n",
       "      <td>9.0</td>\n",
       "      <td>-9999.0</td>\n",
       "      <td>9.0</td>\n",
       "      <td>https://doi.org/10.3334/cdiac/otg.carina_06aq1...</td>\n",
       "    </tr>\n",
       "    <tr>\n",
       "      <th>2</th>\n",
       "      <td>06AQ19840719</td>\n",
       "      <td>1.0</td>\n",
       "      <td>319.0</td>\n",
       "      <td>4.0</td>\n",
       "      <td>1.0</td>\n",
       "      <td>1984.0</td>\n",
       "      <td>7.0</td>\n",
       "      <td>20.0</td>\n",
       "      <td>14.0</td>\n",
       "      <td>46.0</td>\n",
       "      <td>...</td>\n",
       "      <td>9.0</td>\n",
       "      <td>-9999.0</td>\n",
       "      <td>9.0</td>\n",
       "      <td>-9999.0</td>\n",
       "      <td>9.0</td>\n",
       "      <td>-9999.0</td>\n",
       "      <td>9.0</td>\n",
       "      <td>-9999.0</td>\n",
       "      <td>9.0</td>\n",
       "      <td>https://doi.org/10.3334/cdiac/otg.carina_06aq1...</td>\n",
       "    </tr>\n",
       "    <tr>\n",
       "      <th>3</th>\n",
       "      <td>06AQ19840719</td>\n",
       "      <td>1.0</td>\n",
       "      <td>319.0</td>\n",
       "      <td>4.0</td>\n",
       "      <td>1.0</td>\n",
       "      <td>1984.0</td>\n",
       "      <td>7.0</td>\n",
       "      <td>20.0</td>\n",
       "      <td>14.0</td>\n",
       "      <td>46.0</td>\n",
       "      <td>...</td>\n",
       "      <td>9.0</td>\n",
       "      <td>-9999.0</td>\n",
       "      <td>9.0</td>\n",
       "      <td>-9999.0</td>\n",
       "      <td>9.0</td>\n",
       "      <td>-9999.0</td>\n",
       "      <td>9.0</td>\n",
       "      <td>-9999.0</td>\n",
       "      <td>9.0</td>\n",
       "      <td>https://doi.org/10.3334/cdiac/otg.carina_06aq1...</td>\n",
       "    </tr>\n",
       "    <tr>\n",
       "      <th>4</th>\n",
       "      <td>06AQ19840719</td>\n",
       "      <td>1.0</td>\n",
       "      <td>319.0</td>\n",
       "      <td>4.0</td>\n",
       "      <td>1.0</td>\n",
       "      <td>1984.0</td>\n",
       "      <td>7.0</td>\n",
       "      <td>20.0</td>\n",
       "      <td>14.0</td>\n",
       "      <td>46.0</td>\n",
       "      <td>...</td>\n",
       "      <td>9.0</td>\n",
       "      <td>-9999.0</td>\n",
       "      <td>9.0</td>\n",
       "      <td>-9999.0</td>\n",
       "      <td>9.0</td>\n",
       "      <td>-9999.0</td>\n",
       "      <td>9.0</td>\n",
       "      <td>-9999.0</td>\n",
       "      <td>9.0</td>\n",
       "      <td>https://doi.org/10.3334/cdiac/otg.carina_06aq1...</td>\n",
       "    </tr>\n",
       "  </tbody>\n",
       "</table>\n",
       "<p>5 rows × 109 columns</p>\n",
       "</div>"
      ],
      "text/plain": [
       "       expocode  cruise  station  region  cast    year  month   day  hour  \\\n",
       "0  06AQ19840719     1.0    319.0     4.0   1.0  1984.0    7.0  20.0  14.0   \n",
       "1  06AQ19840719     1.0    319.0     4.0   1.0  1984.0    7.0  20.0  14.0   \n",
       "2  06AQ19840719     1.0    319.0     4.0   1.0  1984.0    7.0  20.0  14.0   \n",
       "3  06AQ19840719     1.0    319.0     4.0   1.0  1984.0    7.0  20.0  14.0   \n",
       "4  06AQ19840719     1.0    319.0     4.0   1.0  1984.0    7.0  20.0  14.0   \n",
       "\n",
       "   minute  ...  tocf     doc  docf     don  donf     tdn  tdnf    chla  chlaf  \\\n",
       "0    46.0  ...   9.0 -9999.0   9.0 -9999.0   9.0 -9999.0   9.0 -9999.0    9.0   \n",
       "1    46.0  ...   9.0 -9999.0   9.0 -9999.0   9.0 -9999.0   9.0 -9999.0    9.0   \n",
       "2    46.0  ...   9.0 -9999.0   9.0 -9999.0   9.0 -9999.0   9.0 -9999.0    9.0   \n",
       "3    46.0  ...   9.0 -9999.0   9.0 -9999.0   9.0 -9999.0   9.0 -9999.0    9.0   \n",
       "4    46.0  ...   9.0 -9999.0   9.0 -9999.0   9.0 -9999.0   9.0 -9999.0    9.0   \n",
       "\n",
       "                                                 doi  \n",
       "0  https://doi.org/10.3334/cdiac/otg.carina_06aq1...  \n",
       "1  https://doi.org/10.3334/cdiac/otg.carina_06aq1...  \n",
       "2  https://doi.org/10.3334/cdiac/otg.carina_06aq1...  \n",
       "3  https://doi.org/10.3334/cdiac/otg.carina_06aq1...  \n",
       "4  https://doi.org/10.3334/cdiac/otg.carina_06aq1...  \n",
       "\n",
       "[5 rows x 109 columns]"
      ]
     },
     "execution_count": 8,
     "metadata": {},
     "output_type": "execute_result"
    }
   ],
   "source": [
    "# Remove \"G2\" of all column names. Could be manually set if changes apply in the future\n",
    "gd.columns = gd.columns.str.replace('G2', '')\n",
    "\n",
    "gd.head()"
   ]
  },
  {
   "cell_type": "code",
   "execution_count": 9,
   "id": "aef80718-2d84-4bf0-b9d8-1611f4f970c5",
   "metadata": {},
   "outputs": [],
   "source": [
    "# replace missing values(-9999) with nan\n",
    "gd.replace(-9999, np.nan, inplace=True)\n",
    "\n",
    "# isolate good data only (flag = 2)\n",
    "# From https://essd.copernicus.org/articles/12/3653/2020/ \n",
    "# From the notes of table 1 and 2, we know that those column names end with \"f\" represent the WOCE flags and the flag = 2 means the data is acceptable.\n",
    "gd.loc[gd.phtsinsitutpf != 2, 'phtsinsitutp'] = np.nan\n",
    "gd.loc[gd.tco2f != 2, 'tco2'] = np.nan\n",
    "gd.loc[gd.talkf != 2, 'talk'] = np.nan\n",
    "gd.loc[gd.salinityf != 2, 'salinity'] = np.nan\n",
    "gd.loc[gd.phosphatef != 2, 'phosphate'] = np.nan\n",
    "gd.loc[gd.silicatef != 2, 'silicate'] = np.nan\n",
    "\n",
    "gd.dropna(subset=['phtsinsitutp', 'tco2', 'talk', 'temperature', 'salinity', 'pressure', 'silicate', 'phosphate'], inplace=True)\n"
   ]
  },
  {
   "cell_type": "code",
   "execution_count": 10,
   "id": "f7970388-1bfb-4664-8c05-861465951f82",
   "metadata": {},
   "outputs": [
    {
     "data": {
      "text/plain": [
       "array([2.])"
      ]
     },
     "execution_count": 10,
     "metadata": {},
     "output_type": "execute_result"
    }
   ],
   "source": [
    "# to check what unique values are there in 'salinityf' column. Should only have \"2\". \n",
    "gd.salinityf.unique()"
   ]
  },
  {
   "cell_type": "code",
   "execution_count": 11,
   "id": "42918295-21cc-449c-891e-70970e554c03",
   "metadata": {},
   "outputs": [],
   "source": [
    "# Put year/month/day/hour into sensible format\n",
    "gd['date'] = pd.to_datetime(gd[['year', 'month', 'day']])\n",
    "\n",
    "### Convert from -180 / 180 to 0/360 longitude\n",
    "def f(row):\n",
    "    if row['longitude'] < 0:\n",
    "        val = row['longitude'] + 360\n",
    "    else:\n",
    "        val = row['longitude']\n",
    "    return val\n",
    "\n",
    "### Apply function to dataframe \n",
    "gd['lon_0360'] = gd.apply(f, axis=1)\n",
    "\n",
    "### convert pressure to bar\n",
    "gd.pressure /= 10 \n",
    "\n",
    "### Calculate pCO2 using cbsyst\n",
    "calc_pco2 = cb.Csys(pHtot=gd.phtsinsitutp, DIC=gd.tco2, T_in=gd.temperature, S_in=gd.salinity, P_in=gd.pressure, PT=gd.phosphate, SiT=gd.silicate, BT=415.7)\n",
    "\n",
    "### put pCO2 into GLODAP dataframe - gd\n",
    "gd['pco2'] = calc_pco2.pCO2\n",
    "\n",
    "### Groupby profile and take index where depth is min\n",
    "gd = gd.loc[gd.groupby(['cruise','station','cast'])['depth'].idxmin()]\n",
    "\n",
    "### Set index to dates\n",
    "gd_sub = gd.loc[:, ['date', 'latitude', 'lon_0360', 'depth', 'pco2']].rename(columns={'latitude':'lat', 'lon_0360':'lon', 'pco2':'spco2', 'date':'time'}).set_index(['time'])\n",
    "\n",
    "### Only look in top 'surface_depth' meters, here we use 10m for now\n",
    "# Depth is defined earlier, search for \"surface_depth\" if you want to change it\n",
    "gd_sub = gd_sub.where(gd_sub['depth']<=surface_depth).dropna()\n"
   ]
  },
  {
   "cell_type": "code",
   "execution_count": 12,
   "id": "fccda315-c2dc-4920-8862-1305715f12ec",
   "metadata": {},
   "outputs": [
    {
     "data": {
      "text/html": [
       "<div>\n",
       "<style scoped>\n",
       "    .dataframe tbody tr th:only-of-type {\n",
       "        vertical-align: middle;\n",
       "    }\n",
       "\n",
       "    .dataframe tbody tr th {\n",
       "        vertical-align: top;\n",
       "    }\n",
       "\n",
       "    .dataframe thead th {\n",
       "        text-align: right;\n",
       "    }\n",
       "</style>\n",
       "<table border=\"1\" class=\"dataframe\">\n",
       "  <thead>\n",
       "    <tr style=\"text-align: right;\">\n",
       "      <th></th>\n",
       "      <th>lat</th>\n",
       "      <th>lon</th>\n",
       "      <th>depth</th>\n",
       "      <th>spco2</th>\n",
       "    </tr>\n",
       "    <tr>\n",
       "      <th>time</th>\n",
       "      <th></th>\n",
       "      <th></th>\n",
       "      <th></th>\n",
       "      <th></th>\n",
       "    </tr>\n",
       "  </thead>\n",
       "  <tbody>\n",
       "    <tr>\n",
       "      <th>2021-09-05</th>\n",
       "      <td>84.16156</td>\n",
       "      <td>327.6781</td>\n",
       "      <td>10.0</td>\n",
       "      <td>320.369372</td>\n",
       "    </tr>\n",
       "    <tr>\n",
       "      <th>2021-09-05</th>\n",
       "      <td>84.27070</td>\n",
       "      <td>332.7105</td>\n",
       "      <td>10.0</td>\n",
       "      <td>315.789309</td>\n",
       "    </tr>\n",
       "    <tr>\n",
       "      <th>2021-09-06</th>\n",
       "      <td>84.52902</td>\n",
       "      <td>335.2952</td>\n",
       "      <td>10.0</td>\n",
       "      <td>317.956538</td>\n",
       "    </tr>\n",
       "    <tr>\n",
       "      <th>2021-09-08</th>\n",
       "      <td>83.86674</td>\n",
       "      <td>357.4812</td>\n",
       "      <td>10.0</td>\n",
       "      <td>286.569592</td>\n",
       "    </tr>\n",
       "    <tr>\n",
       "      <th>2021-09-11</th>\n",
       "      <td>82.45316</td>\n",
       "      <td>8.7277</td>\n",
       "      <td>10.0</td>\n",
       "      <td>228.070830</td>\n",
       "    </tr>\n",
       "  </tbody>\n",
       "</table>\n",
       "</div>"
      ],
      "text/plain": [
       "                 lat       lon  depth       spco2\n",
       "time                                             \n",
       "2021-09-05  84.16156  327.6781   10.0  320.369372\n",
       "2021-09-05  84.27070  332.7105   10.0  315.789309\n",
       "2021-09-06  84.52902  335.2952   10.0  317.956538\n",
       "2021-09-08  83.86674  357.4812   10.0  286.569592\n",
       "2021-09-11  82.45316    8.7277   10.0  228.070830"
      ]
     },
     "execution_count": 12,
     "metadata": {},
     "output_type": "execute_result"
    }
   ],
   "source": [
    "gd_sub.tail()"
   ]
  },
  {
   "cell_type": "code",
   "execution_count": 13,
   "id": "02893f86-2917-4727-b37c-36109a34f000",
   "metadata": {},
   "outputs": [
    {
     "name": "stdout",
     "output_type": "stream",
     "text": [
      "Date range is:1986-07 to 2021-10.\n"
     ]
    }
   ],
   "source": [
    "## Takes a flat array of ungridded data and grids it to the grid of the given xr.DataArray\n",
    "\n",
    "# Date range to create monthly mask over\n",
    "# list of start and stop dates\n",
    "# Auto detect the date range. But could be manually set.\n",
    "min_date_str = gd_sub.index.min().strftime('%Y-%m')\n",
    "max_date_str = gd_sub.index.max().strftime('%Y-%m')\n",
    "date_range = [min_date_str,max_date_str]\n",
    "# date_range = ['1982-01', '2021-12']\n",
    "print(f'Date range is:{date_range[0]} to {date_range[1]}.')\n",
    "\n",
    "# Define spatial range\n",
    "lon = np.arange(0.5, 360, 1)\n",
    "lat = np.arange(-89.5, 90, 1)\n",
    "time = pd.date_range(start=f'{date_range[0]}-01T00:00:00.000000000',\n",
    "                     end=f'{date_range[1]}-01T00:00:00.000000000',\n",
    "                     freq='MS') + np.timedelta64(14, 'D')\n",
    "\n",
    "# Create DataArray\n",
    "xda = xr.DataArray(np.zeros((len(time), len(lat), len(lon))),\n",
    "                   dims=['time', 'lat', 'lon'],\n",
    "                   coords=[time, lat, lon])\n",
    "\n",
    "# Convert data into series\n",
    "ds_gd = pd.DataFrame({\n",
    "    'time': gd_sub.index,\n",
    "    'lon': gd_sub.lon.values,\n",
    "    'lat': gd_sub.lat.values,\n",
    "    'spco2': gd_sub.spco2.values\n",
    "})\n"
   ]
  },
  {
   "cell_type": "code",
   "execution_count": 14,
   "id": "3d49ff80-213f-4bed-890a-13e75b78c427",
   "metadata": {},
   "outputs": [
    {
     "data": {
      "text/html": [
       "<div>\n",
       "<style scoped>\n",
       "    .dataframe tbody tr th:only-of-type {\n",
       "        vertical-align: middle;\n",
       "    }\n",
       "\n",
       "    .dataframe tbody tr th {\n",
       "        vertical-align: top;\n",
       "    }\n",
       "\n",
       "    .dataframe thead th {\n",
       "        text-align: right;\n",
       "    }\n",
       "</style>\n",
       "<table border=\"1\" class=\"dataframe\">\n",
       "  <thead>\n",
       "    <tr style=\"text-align: right;\">\n",
       "      <th></th>\n",
       "      <th>time</th>\n",
       "      <th>lon</th>\n",
       "      <th>lat</th>\n",
       "      <th>spco2</th>\n",
       "    </tr>\n",
       "  </thead>\n",
       "  <tbody>\n",
       "    <tr>\n",
       "      <th>0</th>\n",
       "      <td>1996-07-24</td>\n",
       "      <td>64.87</td>\n",
       "      <td>81.38</td>\n",
       "      <td>231.814266</td>\n",
       "    </tr>\n",
       "    <tr>\n",
       "      <th>1</th>\n",
       "      <td>1996-07-25</td>\n",
       "      <td>70.06</td>\n",
       "      <td>81.22</td>\n",
       "      <td>274.256797</td>\n",
       "    </tr>\n",
       "    <tr>\n",
       "      <th>2</th>\n",
       "      <td>1996-07-25</td>\n",
       "      <td>70.95</td>\n",
       "      <td>81.26</td>\n",
       "      <td>277.718331</td>\n",
       "    </tr>\n",
       "    <tr>\n",
       "      <th>3</th>\n",
       "      <td>1996-07-26</td>\n",
       "      <td>72.02</td>\n",
       "      <td>81.29</td>\n",
       "      <td>279.446536</td>\n",
       "    </tr>\n",
       "    <tr>\n",
       "      <th>4</th>\n",
       "      <td>1996-07-27</td>\n",
       "      <td>74.22</td>\n",
       "      <td>81.44</td>\n",
       "      <td>285.931297</td>\n",
       "    </tr>\n",
       "  </tbody>\n",
       "</table>\n",
       "</div>"
      ],
      "text/plain": [
       "        time    lon    lat       spco2\n",
       "0 1996-07-24  64.87  81.38  231.814266\n",
       "1 1996-07-25  70.06  81.22  274.256797\n",
       "2 1996-07-25  70.95  81.26  277.718331\n",
       "3 1996-07-26  72.02  81.29  279.446536\n",
       "4 1996-07-27  74.22  81.44  285.931297"
      ]
     },
     "execution_count": 14,
     "metadata": {},
     "output_type": "execute_result"
    }
   ],
   "source": [
    "ds_gd.head()"
   ]
  },
  {
   "cell_type": "code",
   "execution_count": 15,
   "id": "7fb5a723-ae79-4d88-a636-a6485de92714",
   "metadata": {},
   "outputs": [
    {
     "name": "stdout",
     "output_type": "stream",
     "text": [
      "Number of NaNs in bin indices:\n",
      "tidx: 0, yidx: 0, xidx: 0\n"
     ]
    },
    {
     "name": "stderr",
     "output_type": "stream",
     "text": [
      "/tmp/ipykernel_1697/1456374335.py:30: FutureWarning: The default of observed=False is deprecated and will be changed to True in a future version of pandas. Pass observed=False to retain current behavior or observed=True to adopt the future default and silence this warning.\n",
      "  .groupby(['tidx', 'yidx', 'xidx'])\n"
     ]
    }
   ],
   "source": [
    "# Check if coordinates are present and correctly formatted\n",
    "for key in ['time', 'lat', 'lon']:\n",
    "     assert key in xda.dims, '`{}` is not in the input DataArray'.format(key)\n",
    "assert all(np.diff(xda.time.values) > np.timedelta64(0, 'D')), 'time is not strictly increasing'\n",
    "assert all(np.diff(xda.lat.values) > 0), 'latitude is not strictly increasing'\n",
    "assert all(np.diff(xda.lon.values) > 0), 'longitude is not strictly increasing'\n",
    "assert np.issubdtype(ds_gd['time'].dtype, np.datetime64), 'time must be in datetime64 format'\n",
    "\n",
    "# Create bins for time, latitude, and longitude\n",
    "def make_bins(dim):\n",
    "    delta = np.diff(dim) / 2\n",
    "    bins = np.r_[dim[0] - delta[0], dim[1:] - delta, dim[-1] + delta[-1]]\n",
    "    return bins\n",
    "\n",
    "tbins = make_bins(xda.time.values)\n",
    "ybins = make_bins(xda.lat.values)\n",
    "xbins = make_bins(xda.lon.values)\n",
    "\n",
    "# Bin the data and get indices\n",
    "tidx = pd.cut(ds_gd['time'], tbins, labels=np.arange(len(xda.time)))\n",
    "yidx = pd.cut(ds_gd['lat'], ybins, labels=np.arange(len(xda.lat)))\n",
    "xidx = pd.cut(ds_gd['lon'], xbins, labels=np.arange(len(xda.lon)))\n",
    "\n",
    "print(\"Number of NaNs in bin indices:\")\n",
    "print(f\"tidx: {tidx.isna().sum()}, yidx: {yidx.isna().sum()}, xidx: {xidx.isna().sum()}\")\n",
    "\n",
    "# Group by bins and calculate mean and standard deviation\n",
    "df = (pd.DataFrame({'spco2': ds_gd['spco2'], 'tidx': tidx, 'yidx': yidx, 'xidx': xidx})\n",
    "      .dropna()  # Drop rows where binning failed\n",
    "      .groupby(['tidx', 'yidx', 'xidx'])\n",
    "      .agg(['mean', 'std'])\n",
    "      .reset_index()\n",
    "      .rename(columns={'tidx': 'it', 'yidx': 'iy', 'xidx': 'ix'}))\n",
    "'''\n",
    "df = (pd.Series(ds_gd.spco2)\n",
    "          .groupby([tidx, yidx, xidx])\n",
    "          .agg(['mean', 'std'])\n",
    "          .reset_index()\n",
    "          .rename(columns={'level_0': 'it',\n",
    "                           'level_1': 'iy',\n",
    "                           'level_2': 'ix'}))\n",
    "'''\n",
    "df = df.dropna()"
   ]
  },
  {
   "cell_type": "code",
   "execution_count": 16,
   "id": "bf7c18c1-b730-43d0-a23d-0284d4698479",
   "metadata": {},
   "outputs": [
    {
     "data": {
      "text/html": [
       "<div>\n",
       "<style scoped>\n",
       "    .dataframe tbody tr th:only-of-type {\n",
       "        vertical-align: middle;\n",
       "    }\n",
       "\n",
       "    .dataframe tbody tr th {\n",
       "        vertical-align: top;\n",
       "    }\n",
       "\n",
       "    .dataframe thead tr th {\n",
       "        text-align: left;\n",
       "    }\n",
       "</style>\n",
       "<table border=\"1\" class=\"dataframe\">\n",
       "  <thead>\n",
       "    <tr>\n",
       "      <th></th>\n",
       "      <th>it</th>\n",
       "      <th>iy</th>\n",
       "      <th>ix</th>\n",
       "      <th colspan=\"2\" halign=\"left\">spco2</th>\n",
       "    </tr>\n",
       "    <tr>\n",
       "      <th></th>\n",
       "      <th></th>\n",
       "      <th></th>\n",
       "      <th></th>\n",
       "      <th>mean</th>\n",
       "      <th>std</th>\n",
       "    </tr>\n",
       "  </thead>\n",
       "  <tbody>\n",
       "    <tr>\n",
       "      <th>4952801</th>\n",
       "      <td>76</td>\n",
       "      <td>77</td>\n",
       "      <td>281</td>\n",
       "      <td>416.068905</td>\n",
       "      <td>7.521901</td>\n",
       "    </tr>\n",
       "    <tr>\n",
       "      <th>4952802</th>\n",
       "      <td>76</td>\n",
       "      <td>77</td>\n",
       "      <td>282</td>\n",
       "      <td>399.006460</td>\n",
       "      <td>51.596605</td>\n",
       "    </tr>\n",
       "    <tr>\n",
       "      <th>4955317</th>\n",
       "      <td>76</td>\n",
       "      <td>84</td>\n",
       "      <td>277</td>\n",
       "      <td>427.005486</td>\n",
       "      <td>87.807659</td>\n",
       "    </tr>\n",
       "    <tr>\n",
       "      <th>4955318</th>\n",
       "      <td>76</td>\n",
       "      <td>84</td>\n",
       "      <td>278</td>\n",
       "      <td>411.975670</td>\n",
       "      <td>20.655267</td>\n",
       "    </tr>\n",
       "    <tr>\n",
       "      <th>4955664</th>\n",
       "      <td>76</td>\n",
       "      <td>85</td>\n",
       "      <td>264</td>\n",
       "      <td>428.061597</td>\n",
       "      <td>20.087983</td>\n",
       "    </tr>\n",
       "    <tr>\n",
       "      <th>...</th>\n",
       "      <td>...</td>\n",
       "      <td>...</td>\n",
       "      <td>...</td>\n",
       "      <td>...</td>\n",
       "      <td>...</td>\n",
       "    </tr>\n",
       "    <tr>\n",
       "      <th>27132771</th>\n",
       "      <td>418</td>\n",
       "      <td>128</td>\n",
       "      <td>291</td>\n",
       "      <td>342.894437</td>\n",
       "      <td>48.671033</td>\n",
       "    </tr>\n",
       "    <tr>\n",
       "      <th>27133130</th>\n",
       "      <td>418</td>\n",
       "      <td>129</td>\n",
       "      <td>290</td>\n",
       "      <td>314.888885</td>\n",
       "      <td>9.001980</td>\n",
       "    </tr>\n",
       "    <tr>\n",
       "      <th>27133349</th>\n",
       "      <td>418</td>\n",
       "      <td>130</td>\n",
       "      <td>149</td>\n",
       "      <td>308.080640</td>\n",
       "      <td>61.296763</td>\n",
       "    </tr>\n",
       "    <tr>\n",
       "      <th>27321981</th>\n",
       "      <td>421</td>\n",
       "      <td>114</td>\n",
       "      <td>141</td>\n",
       "      <td>415.988632</td>\n",
       "      <td>5.937633</td>\n",
       "    </tr>\n",
       "    <tr>\n",
       "      <th>27322328</th>\n",
       "      <td>421</td>\n",
       "      <td>115</td>\n",
       "      <td>128</td>\n",
       "      <td>410.807734</td>\n",
       "      <td>5.096889</td>\n",
       "    </tr>\n",
       "  </tbody>\n",
       "</table>\n",
       "<p>1335 rows × 5 columns</p>\n",
       "</div>"
      ],
      "text/plain": [
       "           it   iy   ix       spco2           \n",
       "                               mean        std\n",
       "4952801    76   77  281  416.068905   7.521901\n",
       "4952802    76   77  282  399.006460  51.596605\n",
       "4955317    76   84  277  427.005486  87.807659\n",
       "4955318    76   84  278  411.975670  20.655267\n",
       "4955664    76   85  264  428.061597  20.087983\n",
       "...       ...  ...  ...         ...        ...\n",
       "27132771  418  128  291  342.894437  48.671033\n",
       "27133130  418  129  290  314.888885   9.001980\n",
       "27133349  418  130  149  308.080640  61.296763\n",
       "27321981  421  114  141  415.988632   5.937633\n",
       "27322328  421  115  128  410.807734   5.096889\n",
       "\n",
       "[1335 rows x 5 columns]"
      ]
     },
     "execution_count": 16,
     "metadata": {},
     "output_type": "execute_result"
    }
   ],
   "source": [
    "df"
   ]
  },
  {
   "cell_type": "code",
   "execution_count": 17,
   "id": "a37cc275-bd0f-48cc-b52d-35a6bc4bb1d7",
   "metadata": {},
   "outputs": [],
   "source": [
    "# Convert indices to integers\n",
    "it, iy, ix = df[['it', 'iy', 'ix']].values.T.astype(int)\n",
    "\n",
    "# Create DataArray to store the results\n",
    "xda_mean = xda.copy() * np.nan\n",
    "xda_std = xda.copy() * np.nan\n",
    "xda_mean.name = 'spco2_mean'\n",
    "xda_std.name = 'spco2_std'\n",
    "\n",
    "# Place the binned mean and standard deviation into the DataArray\n",
    "xda_mean.values[it, iy, ix] = df[('spco2', 'mean')]\n",
    "xda_std.values[it, iy, ix] = df[('spco2', 'std')]\n",
    "\n",
    "# Merge into a single Dataset\n",
    "out = xr.merge([xda_mean, xda_std])\n",
    "\n",
    "# Rename variables\n",
    "glodap_out = out.rename({'spco2_mean': 'spco2_mean', 'spco2_std': 'spco2_std'})"
   ]
  },
  {
   "cell_type": "code",
   "execution_count": 18,
   "id": "d2339bc8-1427-45a0-a6ba-df430a8565be",
   "metadata": {},
   "outputs": [
    {
     "name": "stdout",
     "output_type": "stream",
     "text": [
      "Successfully saved to gs://leap-persistent/ckg-2dxsu/Taylor_data/databases/processed/GLODAPv2_spco2_2023.zarr\n"
     ]
    }
   ],
   "source": [
    "# Save to GCS as zarr\n",
    "\n",
    "# Detect the year of GLODAP file name\n",
    "filename = gcs_path.rsplit('/', 1)[-1]\n",
    "match = re.search(r'\\d{4}', filename)\n",
    "if match:\n",
    "    updated_year = match.group()\n",
    "else:\n",
    "    print(\"Fail to detect the year info from the GLODAP file name!\")\n",
    "\n",
    "# Set the save path and name of processed netCDF file\n",
    "zarr_gcs_path = f'{save_path}/processed/GLODAPv2_spco2_{updated_year}.zarr'\n",
    "\n",
    "glodap_out.to_zarr( zarr_gcs_path, mode='w')\n",
    "\n",
    "# Check if saved sucessfully\n",
    "if fs.exists(zarr_gcs_path):\n",
    "    print(f\"Successfully saved to {zarr_gcs_path}\")\n",
    "else:\n",
    "    print(f\"Failed to save to {zarr_gcs_path}\")"
   ]
  },
  {
   "cell_type": "code",
   "execution_count": 19,
   "id": "9189f9d4-2b43-4054-9cba-cb18f9628ce7",
   "metadata": {},
   "outputs": [
    {
     "data": {
      "text/plain": [
       "['leap-persistent/ckg-2dxsu/Taylor_data/databases/processed/GLODAPv2_spco2_2023.zarr',\n",
       " 'leap-persistent/ckg-2dxsu/Taylor_data/databases/processed/HOT_spco2_202312.zarr',\n",
       " 'leap-persistent/ckg-2dxsu/Taylor_data/databases/processed/LDEOv2019_spco2.zarr',\n",
       " 'leap-persistent/ckg-2dxsu/Taylor_data/databases/processed/bats_spco2_1988-10-2023-06.zarr']"
      ]
     },
     "execution_count": 19,
     "metadata": {},
     "output_type": "execute_result"
    }
   ],
   "source": [
    "fs.ls(save_path + '/processed')"
   ]
  },
  {
   "cell_type": "code",
   "execution_count": 20,
   "id": "86f1cb6b-38c3-4722-8270-d23c252a195f",
   "metadata": {
    "scrolled": true
   },
   "outputs": [
    {
     "data": {
      "text/plain": [
       "<matplotlib.collections.QuadMesh at 0x79563bf9be90>"
      ]
     },
     "execution_count": 20,
     "metadata": {},
     "output_type": "execute_result"
    },
    {
     "data": {
      "image/png": "[encoded data removed]",
      "text/plain": [
       "<Figure size 640x480 with 2 Axes>"
      ]
     },
     "metadata": {},
     "output_type": "display_data"
    }
   ],
   "source": [
    "glodap_out.spco2_mean.sel(time = '2021-05').plot()"
   ]
  },
  {
   "cell_type": "code",
   "execution_count": 21,
   "id": "ffcf691a-a50c-4b75-adc0-dcee7ef548f6",
   "metadata": {},
   "outputs": [
    {
     "data": {
      "text/plain": [
       "'\\ndelete_path = \\'gs://leap-persistent/ckg-2dxsu/Taylor_data/GLODAPv2.2023_Merged_Master_File.csv\\'\\n\\nfs = gcsfs.GCSFileSystem()\\n\\nif fs.exists(delete_path):\\n    fs.rm(delete_path)\\n    print(f\"The file {delete_path} has been deleted\")\\nelse:\\n    print(f\"The file {delete_path} does not exist\")\\n'"
      ]
     },
     "execution_count": 21,
     "metadata": {},
     "output_type": "execute_result"
    }
   ],
   "source": [
    "# If you want to delete file from the GCS path, run the following code\n",
    "'''\n",
    "delete_path = 'gs://leap-persistent/ckg-2dxsu/Taylor_data/GLODAPv2.2023_Merged_Master_File.csv'\n",
    "\n",
    "fs = gcsfs.GCSFileSystem()\n",
    "\n",
    "if fs.exists(delete_path):\n",
    "    fs.rm(delete_path, recursive=True)\n",
    "    print(f\"The file {delete_path} has been deleted\")\n",
    "else:\n",
    "    print(f\"The file {delete_path} does not exist\")\n",
    "'''"
   ]
  }
 ],
 "metadata": {
  "kernelspec": {
   "display_name": "Python 3 (ipykernel)",
   "language": "python",
   "name": "python3"
  },
  "language_info": {
   "codemirror_mode": {
    "name": "ipython",
    "version": 3
   },
   "file_extension": ".py",
   "mimetype": "text/x-python",
   "name": "python",
   "nbconvert_exporter": "python",
   "pygments_lexer": "ipython3",
   "version": "3.12.4"
  }
 },
 "nbformat": 4,
 "nbformat_minor": 5
}
