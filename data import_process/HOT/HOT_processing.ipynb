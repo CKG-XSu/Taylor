{
 "cells": [
  {
   "cell_type": "code",
   "execution_count": 1,
   "id": "02eee37c-66a4-4b6e-89c1-dca6d4197d3b",
   "metadata": {},
   "outputs": [],
   "source": [
    "# install or import only if you want to calculate pCO2\n",
    "# pip install PyCO2SYS\n",
    "# import PyCO2SYS as pyco2"
   ]
  },
  {
   "cell_type": "code",
   "execution_count": 2,
   "id": "9a611734-3d57-4791-a3ae-f5ee740d0c49",
   "metadata": {},
   "outputs": [],
   "source": [
    "import pandas as pd\n",
    "import xarray as xr\n",
    "import numpy as np\n",
    "import numpy.ma as ma\n",
    "%matplotlib inline\n",
    "%config InlineBackend.figure_format = 'jpg'\n",
    "%config InlineBackend.print_figure_kwargs = {'dpi':300, 'bbox_inches': 'tight'}\n",
    "import matplotlib as mpl\n",
    "from matplotlib.ticker import AutoMinorLocator\n",
    "import matplotlib.pyplot as plt\n",
    "import scipy\n",
    "import sklearn.linear_model \n",
    "import pickle\n",
    "import re\n",
    "import requests\n",
    "from datetime import datetime\n",
    "import tempfile"
   ]
  },
  {
   "cell_type": "code",
   "execution_count": 3,
   "id": "5f2c1337-a7d3-4be3-b69f-87ee7e8e8bef",
   "metadata": {},
   "outputs": [],
   "source": [
    "import gcsfs \n",
    "fs = gcsfs.GCSFileSystem()"
   ]
  },
  {
   "cell_type": "code",
   "execution_count": 4,
   "id": "fc24b3ed-453c-41d5-b8b1-c7c243de44bf",
   "metadata": {},
   "outputs": [],
   "source": [
    "# From: https://hahana.soest.hawaii.edu/hot/hotco2/hotco2.html\n",
    "# get .txt file: https://hahana.soest.hawaii.edu/hot/hotco2/HOT_surface_CO2.txt"
   ]
  },
  {
   "cell_type": "code",
   "execution_count": 25,
   "id": "9528c0bb-0232-4a4d-861a-e3d2a0ec46c6",
   "metadata": {},
   "outputs": [
    {
     "data": {
      "text/plain": [
       "['leap-persistent/ckg-2dxsu/Taylor_data/databases/raw/GLODAPv2.2023_Merged_Master_File.csv.zip',\n",
       " 'leap-persistent/ckg-2dxsu/Taylor_data/databases/raw/HOT_surface_CO2.txt',\n",
       " 'leap-persistent/ckg-2dxsu/Taylor_data/databases/raw/LDEO_Database_V2019.csv',\n",
       " 'leap-persistent/ckg-2dxsu/Taylor_data/databases/raw/bats_bottle.txt']"
      ]
     },
     "execution_count": 25,
     "metadata": {},
     "output_type": "execute_result"
    }
   ],
   "source": [
    "fs.ls('gs://leap-persistent/ckg-2dxsu/Taylor_data/databases/raw')"
   ]
  },
  {
   "cell_type": "code",
   "execution_count": 6,
   "id": "ef471c60-221f-4fe5-b2b7-cc93520466d1",
   "metadata": {},
   "outputs": [
    {
     "name": "stdout",
     "output_type": "stream",
     "text": [
      "Succesfully downloaded and saved to gs://leap-persistent/ckg-2dxsu/Taylor_data/databases/raw/HOT_surface_CO2.txt\n"
     ]
    }
   ],
   "source": [
    "# In this part, we need to set the download path and save path.\n",
    "# And the script would download the data and save it directly to GCS.\n",
    "# If failed, the output would notify\n",
    "\n",
    "# Set the path of HOT data.\n",
    "# Available here: https://hahana.soest.hawaii.edu/hot/hotco2/hotco2.html\n",
    "# Current version information will be shown in the next cell's output\n",
    "hot_url = 'https://hahana.soest.hawaii.edu/hot/hotco2/HOT_surface_CO2.txt'\n",
    "\n",
    "# GCS path to save the data\n",
    "save_path = 'gs://leap-persistent/ckg-2dxsu/Taylor_data/databases'\n",
    "# Edit the file name if needed.\n",
    "gcs_path = f'{save_path}/raw/HOT_surface_CO2.txt'\n",
    "\n",
    "fs = gcsfs.GCSFileSystem()\n",
    "\n",
    "if fs.exists(gcs_path):\n",
    "    print(f\"File already exists at {gcs_path}. Skipping download.\")\n",
    "else:\n",
    "    # download and save to GCS\n",
    "    response = requests.get(hot_url, stream=True)\n",
    "    if response.status_code == 200:\n",
    "        with fs.open(gcs_path, 'wb') as gcs_file:\n",
    "            for chunk in response.iter_content(chunk_size=1024):\n",
    "                if chunk:  # filter out keep-alive new chunks\n",
    "                    gcs_file.write(chunk)\n",
    "        print(f\"Succesfully downloaded and saved to {gcs_path}\")\n",
    "    else:\n",
    "        print(f\"Error! Could not download: {response.status_code}\")"
   ]
  },
  {
   "cell_type": "code",
   "execution_count": 7,
   "id": "0c285e58-322d-4a4f-a4b9-f050ed1a012d",
   "metadata": {},
   "outputs": [
    {
     "name": "stdout",
     "output_type": "stream",
     "text": [
      "Last updated on: 2023-12-11\n"
     ]
    }
   ],
   "source": [
    "# Load data from GCS and convert to dataframe\n",
    "with fs.open(gcs_path, 'rb') as gcs_file:\n",
    "    lines = gcs_file.readlines()\n",
    "\n",
    "# Mannully set where data starts from, skipping the comment lines. Here we use: 9\n",
    "# Shound not change if HOT keeps their format\n",
    "lines = [line.decode('utf-8') for line in lines]\n",
    "data = lines[8:]\n",
    "\n",
    "# Get column names\n",
    "columns = data[0].replace(',', '').strip().split()\n",
    "\n",
    "df = pd.DataFrame([line.strip().split() for line in data[1:]], columns=columns)\n",
    "\n",
    "# Detect the latest cruise date and convert to yyyy-mm-dd\n",
    "# As long as HOT keeps the same format, this code would work.\n",
    "# Current format: The 4th line: Last updated 11 December 2023 by J.E. Dore\n",
    "info_line = lines[3]\n",
    "date_pattern = r'\\b\\d{1,2}\\s+[A-Za-z]+\\s+\\d{4}\\b'\n",
    "match = re.search(date_pattern, info_line)\n",
    "if match:\n",
    "    date_str = match.group(0)\n",
    "    date_obj = datetime.strptime(date_str, '%d %B %Y')\n",
    "    formatted_month = date_obj.strftime('%Y%m')\n",
    "    formatted_date = date_obj.strftime('%Y-%m-%d')\n",
    "    print(f\"Last updated on: {formatted_date}\")\n",
    "else:\n",
    "    raise ValueError(\"Take care. Fail to detect the latest cruise date!\")"
   ]
  },
  {
   "cell_type": "code",
   "execution_count": 8,
   "id": "eab98707-8f62-4f3d-8dd7-105c52aa4e00",
   "metadata": {},
   "outputs": [
    {
     "data": {
      "text/plain": [
       "Index(['cruise', 'days', 'date', 'temp', 'sal', 'phos', 'sil', 'DIC', 'TA',\n",
       "       'nDIC', 'nTA', 'pHmeas_25C', 'pHmeas_insitu', 'pHcalc_25C',\n",
       "       'pHcalc_insitu', 'pCO2calc_insitu', 'pCO2calc_20C',\n",
       "       'aragsatcalc_insitu', 'calcsatcalc_insitu', 'freeCO2_insitu',\n",
       "       'carbonate_insitu', 'notes'],\n",
       "      dtype='object')"
      ]
     },
     "execution_count": 8,
     "metadata": {},
     "output_type": "execute_result"
    }
   ],
   "source": [
    "df.columns"
   ]
  },
  {
   "cell_type": "code",
   "execution_count": 9,
   "id": "d49a607d-7e40-4b57-aeec-8b49ccdea9b4",
   "metadata": {},
   "outputs": [],
   "source": [
    "df = df[['days', 'date', 'temp', 'pCO2calc_insitu','sal','phos','sil','DIC','TA']]\n",
    "# df=df.drop(columns=['cruise','nDIC','nTA', 'pHmeas_25C', 'pHmeas_insitu','pHcalc_25C','pHcalc_insitu','pCO2calc_20C','aragsatcalc_insitu','calcsatcalc_insitu','freeCO2_insitu','carbonate_insitu','notes'])"
   ]
  },
  {
   "cell_type": "code",
   "execution_count": 10,
   "id": "5af63c11-4c91-4d30-8ad7-b3c8e493edbb",
   "metadata": {},
   "outputs": [
    {
     "data": {
      "text/html": [
       "<div>\n",
       "<style scoped>\n",
       "    .dataframe tbody tr th:only-of-type {\n",
       "        vertical-align: middle;\n",
       "    }\n",
       "\n",
       "    .dataframe tbody tr th {\n",
       "        vertical-align: top;\n",
       "    }\n",
       "\n",
       "    .dataframe thead th {\n",
       "        text-align: right;\n",
       "    }\n",
       "</style>\n",
       "<table border=\"1\" class=\"dataframe\">\n",
       "  <thead>\n",
       "    <tr style=\"text-align: right;\">\n",
       "      <th></th>\n",
       "      <th>days</th>\n",
       "      <th>date</th>\n",
       "      <th>temp</th>\n",
       "      <th>pCO2calc_insitu</th>\n",
       "      <th>sal</th>\n",
       "      <th>phos</th>\n",
       "      <th>sil</th>\n",
       "      <th>DIC</th>\n",
       "      <th>TA</th>\n",
       "    </tr>\n",
       "  </thead>\n",
       "  <tbody>\n",
       "    <tr>\n",
       "      <th>0</th>\n",
       "      <td>30</td>\n",
       "      <td>31-Oct-88</td>\n",
       "      <td>26.283</td>\n",
       "      <td>330.9</td>\n",
       "      <td>35.186</td>\n",
       "      <td>0.08</td>\n",
       "      <td>0.71</td>\n",
       "      <td>1963.91</td>\n",
       "      <td>2319.5</td>\n",
       "    </tr>\n",
       "    <tr>\n",
       "      <th>1</th>\n",
       "      <td>62</td>\n",
       "      <td>2-Dec-88</td>\n",
       "      <td>25.659</td>\n",
       "      <td>330.6</td>\n",
       "      <td>34.984</td>\n",
       "      <td>0.09</td>\n",
       "      <td>0.99</td>\n",
       "      <td>1958.94</td>\n",
       "      <td>2304.9</td>\n",
       "    </tr>\n",
       "    <tr>\n",
       "      <th>2</th>\n",
       "      <td>99</td>\n",
       "      <td>8-Jan-89</td>\n",
       "      <td>24.61</td>\n",
       "      <td>324.3</td>\n",
       "      <td>35.028</td>\n",
       "      <td>0.07</td>\n",
       "      <td>0.93</td>\n",
       "      <td>1963.77</td>\n",
       "      <td>2305</td>\n",
       "    </tr>\n",
       "    <tr>\n",
       "      <th>3</th>\n",
       "      <td>148</td>\n",
       "      <td>26-Feb-89</td>\n",
       "      <td>23.479</td>\n",
       "      <td>310.9</td>\n",
       "      <td>34.883</td>\n",
       "      <td>0.09</td>\n",
       "      <td>0.88</td>\n",
       "      <td>1957.8</td>\n",
       "      <td>2295.5</td>\n",
       "    </tr>\n",
       "    <tr>\n",
       "      <th>4</th>\n",
       "      <td>177</td>\n",
       "      <td>27-Mar-89</td>\n",
       "      <td>24.278</td>\n",
       "      <td>317.7</td>\n",
       "      <td>34.735</td>\n",
       "      <td>0.12</td>\n",
       "      <td>2.01</td>\n",
       "      <td>1946.33</td>\n",
       "      <td>2283</td>\n",
       "    </tr>\n",
       "  </tbody>\n",
       "</table>\n",
       "</div>"
      ],
      "text/plain": [
       "  days       date    temp pCO2calc_insitu     sal  phos   sil      DIC      TA\n",
       "0   30  31-Oct-88  26.283           330.9  35.186  0.08  0.71  1963.91  2319.5\n",
       "1   62   2-Dec-88  25.659           330.6  34.984  0.09  0.99  1958.94  2304.9\n",
       "2   99   8-Jan-89   24.61           324.3  35.028  0.07  0.93  1963.77    2305\n",
       "3  148  26-Feb-89  23.479           310.9  34.883  0.09  0.88   1957.8  2295.5\n",
       "4  177  27-Mar-89  24.278           317.7  34.735  0.12  2.01  1946.33    2283"
      ]
     },
     "execution_count": 10,
     "metadata": {},
     "output_type": "execute_result"
    }
   ],
   "source": [
    "df.head()"
   ]
  },
  {
   "cell_type": "code",
   "execution_count": 11,
   "id": "14359437-d51c-4dd3-9f42-014904c0bf0f",
   "metadata": {},
   "outputs": [
    {
     "data": {
      "text/html": [
       "<div>\n",
       "<style scoped>\n",
       "    .dataframe tbody tr th:only-of-type {\n",
       "        vertical-align: middle;\n",
       "    }\n",
       "\n",
       "    .dataframe tbody tr th {\n",
       "        vertical-align: top;\n",
       "    }\n",
       "\n",
       "    .dataframe thead th {\n",
       "        text-align: right;\n",
       "    }\n",
       "</style>\n",
       "<table border=\"1\" class=\"dataframe\">\n",
       "  <thead>\n",
       "    <tr style=\"text-align: right;\">\n",
       "      <th></th>\n",
       "      <th>days</th>\n",
       "      <th>date</th>\n",
       "      <th>temp</th>\n",
       "      <th>pCO2calc_insitu</th>\n",
       "      <th>sal</th>\n",
       "      <th>phos</th>\n",
       "      <th>sil</th>\n",
       "      <th>DIC</th>\n",
       "      <th>TA</th>\n",
       "    </tr>\n",
       "  </thead>\n",
       "  <tbody>\n",
       "    <tr>\n",
       "      <th>0</th>\n",
       "      <td>30</td>\n",
       "      <td>31-Oct-88</td>\n",
       "      <td>26.283</td>\n",
       "      <td>330.9</td>\n",
       "      <td>35.186</td>\n",
       "      <td>0.08</td>\n",
       "      <td>0.71</td>\n",
       "      <td>1963.91</td>\n",
       "      <td>2319.5</td>\n",
       "    </tr>\n",
       "    <tr>\n",
       "      <th>1</th>\n",
       "      <td>62</td>\n",
       "      <td>2-Dec-88</td>\n",
       "      <td>25.659</td>\n",
       "      <td>330.6</td>\n",
       "      <td>34.984</td>\n",
       "      <td>0.09</td>\n",
       "      <td>0.99</td>\n",
       "      <td>1958.94</td>\n",
       "      <td>2304.9</td>\n",
       "    </tr>\n",
       "    <tr>\n",
       "      <th>2</th>\n",
       "      <td>99</td>\n",
       "      <td>8-Jan-89</td>\n",
       "      <td>24.610</td>\n",
       "      <td>324.3</td>\n",
       "      <td>35.028</td>\n",
       "      <td>0.07</td>\n",
       "      <td>0.93</td>\n",
       "      <td>1963.77</td>\n",
       "      <td>2305</td>\n",
       "    </tr>\n",
       "    <tr>\n",
       "      <th>3</th>\n",
       "      <td>148</td>\n",
       "      <td>26-Feb-89</td>\n",
       "      <td>23.479</td>\n",
       "      <td>310.9</td>\n",
       "      <td>34.883</td>\n",
       "      <td>0.09</td>\n",
       "      <td>0.88</td>\n",
       "      <td>1957.8</td>\n",
       "      <td>2295.5</td>\n",
       "    </tr>\n",
       "    <tr>\n",
       "      <th>4</th>\n",
       "      <td>177</td>\n",
       "      <td>27-Mar-89</td>\n",
       "      <td>24.278</td>\n",
       "      <td>317.7</td>\n",
       "      <td>34.735</td>\n",
       "      <td>0.12</td>\n",
       "      <td>2.01</td>\n",
       "      <td>1946.33</td>\n",
       "      <td>2283</td>\n",
       "    </tr>\n",
       "  </tbody>\n",
       "</table>\n",
       "</div>"
      ],
      "text/plain": [
       "   days       date    temp  pCO2calc_insitu     sal  phos   sil      DIC  \\\n",
       "0    30  31-Oct-88  26.283            330.9  35.186  0.08  0.71  1963.91   \n",
       "1    62   2-Dec-88  25.659            330.6  34.984  0.09  0.99  1958.94   \n",
       "2    99   8-Jan-89  24.610            324.3  35.028  0.07  0.93  1963.77   \n",
       "3   148  26-Feb-89  23.479            310.9  34.883  0.09  0.88   1957.8   \n",
       "4   177  27-Mar-89  24.278            317.7  34.735  0.12  2.01  1946.33   \n",
       "\n",
       "       TA  \n",
       "0  2319.5  \n",
       "1  2304.9  \n",
       "2    2305  \n",
       "3  2295.5  \n",
       "4    2283  "
      ]
     },
     "execution_count": 11,
     "metadata": {},
     "output_type": "execute_result"
    }
   ],
   "source": [
    "# Convert data types\n",
    "columns_to_convert = ['days','temp','pCO2calc_insitu']\n",
    "# columns_to_convert = ['days','temp', 'sal', 'phos', 'sil', 'DIC', 'TA']\n",
    "\n",
    "\n",
    "for column in columns_to_convert:\n",
    "    df[column] = pd.to_numeric(df[column], errors='coerce')\n",
    "\n",
    "df.head()"
   ]
  },
  {
   "cell_type": "code",
   "execution_count": 12,
   "id": "7c854e06-6aba-4b0a-a2df-2368f11c5b89",
   "metadata": {},
   "outputs": [
    {
     "data": {
      "text/plain": [
       "<bound method DataFrame.info of       days       date    temp  pCO2calc_insitu     sal  phos   sil      DIC  \\\n",
       "0       30  31-Oct-88  26.283            330.9  35.186  0.08  0.71  1963.91   \n",
       "1       62   2-Dec-88  25.659            330.6  34.984  0.09  0.99  1958.94   \n",
       "2       99   8-Jan-89  24.610            324.3  35.028  0.07  0.93  1963.77   \n",
       "3      148  26-Feb-89  23.479            310.9  34.883  0.09  0.88   1957.8   \n",
       "4      177  27-Mar-89  24.278            317.7  34.735  0.12  2.01  1946.33   \n",
       "..     ...        ...     ...              ...     ...   ...   ...      ...   \n",
       "334  12231  28-Mar-22  24.497            390.5  35.094  0.04  1.12  2005.70   \n",
       "335  12291  27-May-22  24.892            404.3  34.753  0.10  1.22  1996.00   \n",
       "336  12335  10-Jul-22  25.344            396.2  35.255  0.04  1.17  2017.40   \n",
       "337  12356  31-Jul-22  25.969            409.0  35.312  0.02  1.29  2016.55   \n",
       "338  12388  01-Sep-22  26.659            408.8  35.005  0.05  1.16  1995.35   \n",
       "\n",
       "         TA  \n",
       "0    2319.5  \n",
       "1    2304.9  \n",
       "2      2305  \n",
       "3    2295.5  \n",
       "4      2283  \n",
       "..      ...  \n",
       "334  2307.0  \n",
       "335  2288.0  \n",
       "336  2327.5  \n",
       "337  2325.0  \n",
       "338  2304.0  \n",
       "\n",
       "[330 rows x 9 columns]>"
      ]
     },
     "execution_count": 12,
     "metadata": {},
     "output_type": "execute_result"
    }
   ],
   "source": [
    "# Grab observations\n",
    "# drop those columns where pCO2calc_insitu values are missing\n",
    "ds = df[(df.pCO2calc_insitu != -999)]\n",
    "# ds = df[(df.TA > 0) & (df.sal > 0) & (df.temp != -999) & (df.DIC > 0) & (df.sil != -999) & (df.phos != -999)]\n",
    "ds.info"
   ]
  },
  {
   "cell_type": "code",
   "execution_count": 13,
   "id": "b604da10-7041-4706-92cd-857c7865c0a0",
   "metadata": {},
   "outputs": [],
   "source": [
    "# The following 3 cells are using PyCO2SYS package to calculate pCO2. \n",
    "# But we would not use this result for now. \n",
    "# If you want to use this pCO2 value, search for \"'spco2':(['time'],CO2dict['pCO2'])},\". Use that hot_out to save as netCDF to cloud.\n",
    "\n",
    "# Define input conditions\n",
    "# These are the inputs to calculate pCO2 using PyCO2SYS package\n",
    "par1type =    1  # The first parameter supplied is of type \"1\", which is \"alkalinity\"\n",
    "par1     = ds.TA  # Value of the first parameter\n",
    "par2type =    2  # The second parameter supplied is of type \"2\", which is \"DIC\"\n",
    "par2     = ds.DIC  # Value of the second parameter\n",
    "sal      = ds.sal  # Salinity of the sample\n",
    "tempin   = ds.temp  # Temperature at input conditions\n",
    "presin   = 0  # Pressure    at input conditions\n",
    "sil      = ds.sil #50  # Concentration of silicate  in the sample (in umol/kg)\n",
    "po4      = ds.phos  # 2# Concentration of phosphate in the sample (in umol/kg)\n",
    "pHscale  =    1  # pH scale at which the input pH is reported (\"1\" means \"Total Scale\")  \n",
    "                 #  - doesn't matter in this example\n",
    "k1k2c    =    10 #4  # Choice of H2CO3 and HCO3- dissociation constants K1 and K2 (\"4\" means \"Mehrbach refit\")  (Galen says use \"10\")\n",
    "kso4c    =    1  # Choice of HSO4- dissociation constants KSO4 (\"1\" means \"Dickson\")"
   ]
  },
  {
   "cell_type": "code",
   "execution_count": 14,
   "id": "0d0391e6-0f9a-4d14-a2c9-626d8a7d594c",
   "metadata": {},
   "outputs": [
    {
     "data": {
      "text/plain": [
       "\"\\nCO2dict = pyco2.sys(par1, par2, par1type, par2type,\\n                    salinity=sal, temperature=tempin, pressure=presin,\\n                    total_silicate=sil, total_phosphate=po4,\\n                    opt_pH_scale=pHscale, opt_k_carbonic=k1k2c, opt_k_bisulfate=kso4c)\\nprint('PyCO2SYS ran successfully!')\\n\""
      ]
     },
     "execution_count": 14,
     "metadata": {},
     "output_type": "execute_result"
    }
   ],
   "source": [
    "# Run CO2SYS!\n",
    "'''\n",
    "CO2dict = pyco2.sys(par1, par2, par1type, par2type,\n",
    "                    salinity=sal, temperature=tempin, pressure=presin,\n",
    "                    total_silicate=sil, total_phosphate=po4,\n",
    "                    opt_pH_scale=pHscale, opt_k_carbonic=k1k2c, opt_k_bisulfate=kso4c)\n",
    "print('PyCO2SYS ran successfully!')\n",
    "'''"
   ]
  },
  {
   "cell_type": "code",
   "execution_count": 15,
   "id": "949f9d37-8364-47e4-858a-6567ae6cbeb5",
   "metadata": {},
   "outputs": [
    {
     "data": {
      "text/plain": [
       "\"\\nfig = plt.subplots(1,1,figsize=(12,2))\\nplt.scatter(ds.days,CO2dict['pCO2'])\\nplt.xlim(min(ds.days),max(ds.days))\\n\""
      ]
     },
     "execution_count": 15,
     "metadata": {},
     "output_type": "execute_result"
    }
   ],
   "source": [
    "'''\n",
    "fig = plt.subplots(1,1,figsize=(12,2))\n",
    "plt.scatter(ds.days,CO2dict['pCO2'])\n",
    "plt.xlim(min(ds.days),max(ds.days))\n",
    "'''"
   ]
  },
  {
   "cell_type": "code",
   "execution_count": 16,
   "id": "2ef79fd1-9021-4554-8d03-1208878096ee",
   "metadata": {},
   "outputs": [
    {
     "data": {
      "text/plain": [
       "Index(['days', 'date', 'temp', 'pCO2calc_insitu', 'sal', 'phos', 'sil', 'DIC',\n",
       "       'TA'],\n",
       "      dtype='object')"
      ]
     },
     "execution_count": 16,
     "metadata": {},
     "output_type": "execute_result"
    }
   ],
   "source": [
    "ds.columns"
   ]
  },
  {
   "cell_type": "code",
   "execution_count": 17,
   "id": "a09c5640-77b3-4ae8-932b-e5792d20f43c",
   "metadata": {},
   "outputs": [
    {
     "name": "stderr",
     "output_type": "stream",
     "text": [
      "/tmp/ipykernel_1356/78431236.py:1: SettingWithCopyWarning: \n",
      "A value is trying to be set on a copy of a slice from a DataFrame.\n",
      "Try using .loc[row_indexer,col_indexer] = value instead\n",
      "\n",
      "See the caveats in the documentation: https://pandas.pydata.org/pandas-docs/stable/user_guide/indexing.html#returning-a-view-versus-a-copy\n",
      "  ds['Date']=ds['date'].apply(lambda x: datetime.strptime(x, '%d-%b-%y').strftime('%Y-%m-%d'))\n"
     ]
    }
   ],
   "source": [
    "ds['Date']=ds['date'].apply(lambda x: datetime.strptime(x, '%d-%b-%y').strftime('%Y-%m-%d'))\n"
   ]
  },
  {
   "cell_type": "code",
   "execution_count": 18,
   "id": "85b70307-decf-4d44-9f16-b8ab471f5fb7",
   "metadata": {},
   "outputs": [
    {
     "data": {
      "text/html": [
       "<div>\n",
       "<style scoped>\n",
       "    .dataframe tbody tr th:only-of-type {\n",
       "        vertical-align: middle;\n",
       "    }\n",
       "\n",
       "    .dataframe tbody tr th {\n",
       "        vertical-align: top;\n",
       "    }\n",
       "\n",
       "    .dataframe thead th {\n",
       "        text-align: right;\n",
       "    }\n",
       "</style>\n",
       "<table border=\"1\" class=\"dataframe\">\n",
       "  <thead>\n",
       "    <tr style=\"text-align: right;\">\n",
       "      <th></th>\n",
       "      <th>days</th>\n",
       "      <th>date</th>\n",
       "      <th>temp</th>\n",
       "      <th>pCO2calc_insitu</th>\n",
       "      <th>sal</th>\n",
       "      <th>phos</th>\n",
       "      <th>sil</th>\n",
       "      <th>DIC</th>\n",
       "      <th>TA</th>\n",
       "      <th>Date</th>\n",
       "    </tr>\n",
       "  </thead>\n",
       "  <tbody>\n",
       "    <tr>\n",
       "      <th>0</th>\n",
       "      <td>30</td>\n",
       "      <td>31-Oct-88</td>\n",
       "      <td>26.283</td>\n",
       "      <td>330.9</td>\n",
       "      <td>35.186</td>\n",
       "      <td>0.08</td>\n",
       "      <td>0.71</td>\n",
       "      <td>1963.91</td>\n",
       "      <td>2319.5</td>\n",
       "      <td>1988-10-31</td>\n",
       "    </tr>\n",
       "    <tr>\n",
       "      <th>1</th>\n",
       "      <td>62</td>\n",
       "      <td>2-Dec-88</td>\n",
       "      <td>25.659</td>\n",
       "      <td>330.6</td>\n",
       "      <td>34.984</td>\n",
       "      <td>0.09</td>\n",
       "      <td>0.99</td>\n",
       "      <td>1958.94</td>\n",
       "      <td>2304.9</td>\n",
       "      <td>1988-12-02</td>\n",
       "    </tr>\n",
       "    <tr>\n",
       "      <th>2</th>\n",
       "      <td>99</td>\n",
       "      <td>8-Jan-89</td>\n",
       "      <td>24.610</td>\n",
       "      <td>324.3</td>\n",
       "      <td>35.028</td>\n",
       "      <td>0.07</td>\n",
       "      <td>0.93</td>\n",
       "      <td>1963.77</td>\n",
       "      <td>2305</td>\n",
       "      <td>1989-01-08</td>\n",
       "    </tr>\n",
       "    <tr>\n",
       "      <th>3</th>\n",
       "      <td>148</td>\n",
       "      <td>26-Feb-89</td>\n",
       "      <td>23.479</td>\n",
       "      <td>310.9</td>\n",
       "      <td>34.883</td>\n",
       "      <td>0.09</td>\n",
       "      <td>0.88</td>\n",
       "      <td>1957.8</td>\n",
       "      <td>2295.5</td>\n",
       "      <td>1989-02-26</td>\n",
       "    </tr>\n",
       "    <tr>\n",
       "      <th>4</th>\n",
       "      <td>177</td>\n",
       "      <td>27-Mar-89</td>\n",
       "      <td>24.278</td>\n",
       "      <td>317.7</td>\n",
       "      <td>34.735</td>\n",
       "      <td>0.12</td>\n",
       "      <td>2.01</td>\n",
       "      <td>1946.33</td>\n",
       "      <td>2283</td>\n",
       "      <td>1989-03-27</td>\n",
       "    </tr>\n",
       "  </tbody>\n",
       "</table>\n",
       "</div>"
      ],
      "text/plain": [
       "   days       date    temp  pCO2calc_insitu     sal  phos   sil      DIC  \\\n",
       "0    30  31-Oct-88  26.283            330.9  35.186  0.08  0.71  1963.91   \n",
       "1    62   2-Dec-88  25.659            330.6  34.984  0.09  0.99  1958.94   \n",
       "2    99   8-Jan-89  24.610            324.3  35.028  0.07  0.93  1963.77   \n",
       "3   148  26-Feb-89  23.479            310.9  34.883  0.09  0.88   1957.8   \n",
       "4   177  27-Mar-89  24.278            317.7  34.735  0.12  2.01  1946.33   \n",
       "\n",
       "       TA        Date  \n",
       "0  2319.5  1988-10-31  \n",
       "1  2304.9  1988-12-02  \n",
       "2    2305  1989-01-08  \n",
       "3  2295.5  1989-02-26  \n",
       "4    2283  1989-03-27  "
      ]
     },
     "execution_count": 18,
     "metadata": {},
     "output_type": "execute_result"
    }
   ],
   "source": [
    "ds.head()"
   ]
  },
  {
   "cell_type": "code",
   "execution_count": 19,
   "id": "26ba374d-f61d-4bbd-9c9a-b350a0d71dde",
   "metadata": {},
   "outputs": [
    {
     "data": {
      "text/plain": [
       "False"
      ]
     },
     "execution_count": 19,
     "metadata": {},
     "output_type": "execute_result"
    }
   ],
   "source": [
    "has_invalid_values = (ds == -999).any().any()\n",
    "has_invalid_values"
   ]
  },
  {
   "cell_type": "code",
   "execution_count": 20,
   "id": "864b5b27-fb45-46e0-9ffe-bbdcbfe1813d",
   "metadata": {},
   "outputs": [],
   "source": [
    "# If the output of previous cell is \"True\", which means that there are -999 value, then run this cell\n",
    "\n",
    "# ds.replace(-999, np.nan, inplace=True)\n",
    "# has_invalid_values = (ds == -999).any().any()\n",
    "# has_invalid_values"
   ]
  },
  {
   "cell_type": "code",
   "execution_count": 21,
   "id": "3728860f-25e4-4d98-80f3-dc5b7d98431d",
   "metadata": {},
   "outputs": [],
   "source": [
    "hot_out = xr.Dataset({\n",
    "                        'temp':([\"time\"],ds['temp']),                       \n",
    "                        'spco2':(['time'],ds['pCO2calc_insitu'])},\n",
    "                        coords={'time': (['time'],ds['Date'])})"
   ]
  },
  {
   "cell_type": "code",
   "execution_count": 22,
   "id": "50e84555-395a-4128-80ec-98a56cb8e669",
   "metadata": {},
   "outputs": [
    {
     "data": {
      "text/plain": [
       "'\\nhot_out = xr.Dataset({\\n                        \\'temp\\':([\"time\"],ds[\\'temp\\']),\\n                        \\'salinity\\':([\\'time\\'],ds[\\'sal\\']),\\n                        \\'CO2\\':([\\'time\\'],ds[\\'DIC\\']),\\n                        \\'alk\\':([\\'time\\'],ds[\\'TA\\']),\\n                        \\'Si\\':([\\'time\\'],ds[\\'sil\\']),\\n                        \\'PO4\\':([\\'time\\'],ds[\\'phos\\']),\\n                        \\'spco2\\':([\\'time\\'],CO2dict[\\'pCO2\\'])},\\n                        coords={\\'time\\': ([\\'time\\'],ds[\\'Date\\'])})\\n'"
      ]
     },
     "execution_count": 22,
     "metadata": {},
     "output_type": "execute_result"
    }
   ],
   "source": [
    "# Use this hot_out only if you want to use the calculated pCO2 value by PyCO2SYS package.\n",
    "'''\n",
    "hot_out = xr.Dataset({\n",
    "                        'temp':([\"time\"],ds['temp']),\n",
    "                        'salinity':(['time'],ds['sal']),\n",
    "                        'CO2':(['time'],ds['DIC']),\n",
    "                        'alk':(['time'],ds['TA']),\n",
    "                        'Si':(['time'],ds['sil']),\n",
    "                        'PO4':(['time'],ds['phos']),\n",
    "                        'spco2':(['time'],CO2dict['pCO2'])},\n",
    "                        coords={'time': (['time'],ds['Date'])})\n",
    "'''"
   ]
  },
  {
   "cell_type": "code",
   "execution_count": 23,
   "id": "b52abf7c-284c-4976-b542-85222232c83f",
   "metadata": {},
   "outputs": [
    {
     "name": "stdout",
     "output_type": "stream",
     "text": [
      "Successfully saved to gs://leap-persistent/ckg-2dxsu/Taylor_data/databases/processed/HOT_spco2_202312.zarr\n"
     ]
    }
   ],
   "source": [
    "# Save to GCS as zarr\n",
    "zarr_gcs_path = f'{save_path}/processed/HOT_spco2_{formatted_month}.zarr'\n",
    "\n",
    "'''with tempfile.NamedTemporaryFile(suffix='.nc') as tmp_file:\n",
    "    hot_out.to_netcdf(tmp_file.name)\n",
    "    tmp_file.seek(0) \n",
    "    with fs.open(zarr_gcs_path, 'wb') as gcs_file:\n",
    "        gcs_file.write(tmp_file.read())'''\n",
    "\n",
    "hot_out.to_zarr( zarr_gcs_path, mode='w')\n",
    "\n",
    "# Check if saved sucessfully\n",
    "if fs.exists(zarr_gcs_path):\n",
    "    print(f\"Successfully saved to {zarr_gcs_path}\")\n",
    "else:\n",
    "    print(f\"Failed to save to {zarr_gcs_path}\")"
   ]
  },
  {
   "cell_type": "code",
   "execution_count": 24,
   "id": "45d67c1c-0dc8-4f13-8fe8-40c692824544",
   "metadata": {},
   "outputs": [
    {
     "data": {
      "text/plain": [
       "['leap-persistent/ckg-2dxsu/Taylor_data/databases/processed/HOT_spco2_202312.zarr',\n",
       " 'leap-persistent/ckg-2dxsu/Taylor_data/databases/processed/bats_spco2_1988-10-2023-06.zarr']"
      ]
     },
     "execution_count": 24,
     "metadata": {},
     "output_type": "execute_result"
    }
   ],
   "source": [
    "fs.ls(save_path + '/processed')"
   ]
  },
  {
   "cell_type": "code",
   "execution_count": null,
   "id": "c554d8d0-3007-4f77-ad4f-804b5d45f551",
   "metadata": {},
   "outputs": [],
   "source": [
    "# If you want to delete file from the GCS path, run the following code\n",
    "'''\n",
    "delete_path = 'gs://leap-persistent/ckg-2dxsu/Taylor_data/GLODAPv2.2023_Merged_Master_File.csv'\n",
    "\n",
    "fs = gcsfs.GCSFileSystem()\n",
    "\n",
    "if fs.exists(delete_path):\n",
    "    fs.rm(delete_path, recursive=True)\n",
    "    print(f\"The file {delete_path} has been deleted\")\n",
    "else:\n",
    "    print(f\"The file {delete_path} does not exist\")\n",
    "'''"
   ]
  }
 ],
 "metadata": {
  "kernelspec": {
   "display_name": "Python 3 (ipykernel)",
   "language": "python",
   "name": "python3"
  },
  "language_info": {
   "codemirror_mode": {
    "name": "ipython",
    "version": 3
   },
   "file_extension": ".py",
   "mimetype": "text/x-python",
   "name": "python",
   "nbconvert_exporter": "python",
   "pygments_lexer": "ipython3",
   "version": "3.12.4"
  }
 },
 "nbformat": 4,
 "nbformat_minor": 5
}
