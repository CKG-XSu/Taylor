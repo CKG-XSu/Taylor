{
 "cells": [
  {
   "cell_type": "markdown",
   "id": "959bc913-c4ce-4e18-9d4a-76f7df9faeec",
   "metadata": {},
   "source": [
    "luke used files in here: /local/data/artemis/workspace/gloege/data/HOT\n",
    "the website in \"source\" for his HOT.nc file is outdated. \n",
    "New website is: https://hahana.soest.hawaii.edu/hot/hotco2/hotco2.html\n",
    "and specifically here is the txt file: https://hahana.soest.hawaii.edu/hot/hotco2/HOT_surface_CO2.txt"
   ]
  },
  {
   "cell_type": "markdown",
   "id": "72e13128-6639-4189-ad96-f5c798b3ca18",
   "metadata": {},
   "source": [
    "Need to load that in and then extract the time and CO2 variable we want.\n",
    "the specific variable/column we want is pCO2calc_insitu\n",
    "Need to then save like we did in BATS_processing so we save it as a netcdf\n",
    "Readme is available here if needed: https://hahana.soest.hawaii.edu/hot/hotco2/HOT_surface_CO2_readme.pdf"
   ]
  },
  {
   "cell_type": "code",
   "execution_count": null,
   "id": "cfe8bb53-c04e-4cf6-8fd9-8c93570fc735",
   "metadata": {},
   "outputs": [],
   "source": []
  },
  {
   "cell_type": "code",
   "execution_count": null,
   "id": "0af25537-7c0f-4ffe-a5ed-ea6fcac87bc6",
   "metadata": {},
   "outputs": [],
   "source": []
  },
  {
   "cell_type": "code",
   "execution_count": null,
   "id": "d031b125-d71d-47e5-8100-58e053cd6653",
   "metadata": {},
   "outputs": [],
   "source": []
  }
 ],
 "metadata": {
  "kernelspec": {
   "display_name": "Python 3 (ipykernel)",
   "language": "python",
   "name": "python3"
  },
  "language_info": {
   "codemirror_mode": {
    "name": "ipython",
    "version": 3
   },
   "file_extension": ".py",
   "mimetype": "text/x-python",
   "name": "python",
   "nbconvert_exporter": "python",
   "pygments_lexer": "ipython3",
   "version": "3.11.9"
  }
 },
 "nbformat": 4,
 "nbformat_minor": 5
}
